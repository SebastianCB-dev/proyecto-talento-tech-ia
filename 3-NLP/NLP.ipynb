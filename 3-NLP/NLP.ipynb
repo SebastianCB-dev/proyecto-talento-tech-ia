{
 "cells": [
  {
   "cell_type": "markdown",
   "metadata": {},
   "source": [
    "### NLP - Natural Language Processing (Procesamiento de Lenguaje Natural)\n",
    "\n",
    "En este notebook se hará el procesamiento de lenguaje natural (NLP) en los comentarios de los datasets de entrenamiento y prueba. Se utilizará la librería `nltk` para realizar el procesamiento de los comentarios.\n",
    "\n",
    "Lo que se hará es:\n",
    "1. Convertir los comentarios a minúsculas\n",
    "2. Tokenizar los comentarios\n",
    "3. Eliminar contenido que hace ruido -> URLs, menciones, hashtags, etc.\n",
    "4. Reducir palabras extendidas (como \"Holaaaaaaa\" a \"Hola\")\n",
    "5. Eliminar las palabras vacías (stopwords)\n",
    "6. limitar caracteres solo letras\n",
    "7. Eliminar los espacios en blanco\n",
    "8. Lematizar las palabras\n",
    "9. Eliminar tokens que tenga menos de 3 caracteres\n",
    "\n",
    "Luego una vez ya queden los tokens limpios, se entrenará un Word2Vec para obtener los vectores de palabras de los comentarios. (Promedio de los vectores de palabras de cada comentario)"
   ]
  },
  {
   "cell_type": "code",
   "execution_count": 1,
   "metadata": {},
   "outputs": [
    {
     "name": "stderr",
     "output_type": "stream",
     "text": [
      "/var/folders/kr/066v09l56c9_4l91brw4fwdc0000gn/T/ipykernel_26106/373857186.py:1: DeprecationWarning: Importing display from IPython.core.display is deprecated since IPython 7.14, please import from IPython display\n",
      "  from IPython.core.display import display, HTML; display(HTML('<style>.output_wrapper, .output {height:auto !important; max-height:150px;}.output_scroll {box-shadow:none !important; webkit-box-shadow:none !important;}</style>'))\n"
     ]
    },
    {
     "data": {
      "text/html": [
       "<style>.output_wrapper, .output {height:auto !important; max-height:150px;}.output_scroll {box-shadow:none !important; webkit-box-shadow:none !important;}</style>"
      ],
      "text/plain": [
       "<IPython.core.display.HTML object>"
      ]
     },
     "metadata": {},
     "output_type": "display_data"
    }
   ],
   "source": [
    "from IPython.core.display import display, HTML; display(HTML('<style>.output_wrapper, .output {height:auto !important; max-height:150px;}.output_scroll {box-shadow:none !important; webkit-box-shadow:none !important;}</style>'))"
   ]
  },
  {
   "cell_type": "code",
   "execution_count": 2,
   "metadata": {},
   "outputs": [
    {
     "name": "stderr",
     "output_type": "stream",
     "text": [
      "/var/folders/kr/066v09l56c9_4l91brw4fwdc0000gn/T/ipykernel_26106/3703233119.py:3: DeprecationWarning: Importing display from IPython.core.display is deprecated since IPython 7.14, please import from IPython display\n",
      "  from IPython.core.display import display, HTML; display(HTML('<style>.output_wrapper, .output {height:auto !important; max-height:150px;}.output_scroll {box-shadow:none !important; webkit-box-shadow:none !important;}</style>'))\n"
     ]
    },
    {
     "data": {
      "text/html": [
       "<style>.output_wrapper, .output {height:auto !important; max-height:150px;}.output_scroll {box-shadow:none !important; webkit-box-shadow:none !important;}</style>"
      ],
      "text/plain": [
       "<IPython.core.display.HTML object>"
      ]
     },
     "metadata": {},
     "output_type": "display_data"
    }
   ],
   "source": [
    "# !IGNORA ESTA CELDA!\n",
    "# Esto es para que las celdas de la notebook se ajusten a la altura del contenido\n",
    "from IPython.core.display import display, HTML; display(HTML('<style>.output_wrapper, .output {height:auto !important; max-height:150px;}.output_scroll {box-shadow:none !important; webkit-box-shadow:none !important;}</style>'))"
   ]
  },
  {
   "cell_type": "code",
   "execution_count": 3,
   "metadata": {},
   "outputs": [
    {
     "name": "stdout",
     "output_type": "stream",
     "text": [
      "Requirement already satisfied: pandas==2.2.2 in /Users/sebastiancb/anaconda3/envs/env-talentotech-project/lib/python3.10/site-packages (from -r ../requirements.txt (line 1)) (2.2.2)\n",
      "Requirement already satisfied: scikit-learn==1.5.1 in /Users/sebastiancb/anaconda3/envs/env-talentotech-project/lib/python3.10/site-packages (from -r ../requirements.txt (line 2)) (1.5.1)\n",
      "Requirement already satisfied: nltk==3.9 in /Users/sebastiancb/anaconda3/envs/env-talentotech-project/lib/python3.10/site-packages (from -r ../requirements.txt (line 3)) (3.9)\n",
      "Requirement already satisfied: spacy==3.7.5 in /Users/sebastiancb/anaconda3/envs/env-talentotech-project/lib/python3.10/site-packages (from -r ../requirements.txt (line 4)) (3.7.5)\n",
      "Requirement already satisfied: numpy==1.26.4 in /Users/sebastiancb/anaconda3/envs/env-talentotech-project/lib/python3.10/site-packages (from -r ../requirements.txt (line 5)) (1.26.4)\n",
      "Requirement already satisfied: gensim==4.3.3 in /Users/sebastiancb/anaconda3/envs/env-talentotech-project/lib/python3.10/site-packages (from -r ../requirements.txt (line 6)) (4.3.3)\n",
      "Requirement already satisfied: Unidecode==1.3.8 in /Users/sebastiancb/anaconda3/envs/env-talentotech-project/lib/python3.10/site-packages (from -r ../requirements.txt (line 7)) (1.3.8)\n",
      "Requirement already satisfied: python-dateutil>=2.8.2 in /Users/sebastiancb/anaconda3/envs/env-talentotech-project/lib/python3.10/site-packages (from pandas==2.2.2->-r ../requirements.txt (line 1)) (2.9.0)\n",
      "Requirement already satisfied: pytz>=2020.1 in /Users/sebastiancb/anaconda3/envs/env-talentotech-project/lib/python3.10/site-packages (from pandas==2.2.2->-r ../requirements.txt (line 1)) (2024.1)\n",
      "Requirement already satisfied: tzdata>=2022.7 in /Users/sebastiancb/anaconda3/envs/env-talentotech-project/lib/python3.10/site-packages (from pandas==2.2.2->-r ../requirements.txt (line 1)) (2024.1)\n",
      "Requirement already satisfied: scipy>=1.6.0 in /Users/sebastiancb/anaconda3/envs/env-talentotech-project/lib/python3.10/site-packages (from scikit-learn==1.5.1->-r ../requirements.txt (line 2)) (1.13.1)\n",
      "Requirement already satisfied: joblib>=1.2.0 in /Users/sebastiancb/anaconda3/envs/env-talentotech-project/lib/python3.10/site-packages (from scikit-learn==1.5.1->-r ../requirements.txt (line 2)) (1.4.2)\n",
      "Requirement already satisfied: threadpoolctl>=3.1.0 in /Users/sebastiancb/anaconda3/envs/env-talentotech-project/lib/python3.10/site-packages (from scikit-learn==1.5.1->-r ../requirements.txt (line 2)) (3.5.0)\n",
      "Requirement already satisfied: click in /Users/sebastiancb/anaconda3/envs/env-talentotech-project/lib/python3.10/site-packages (from nltk==3.9->-r ../requirements.txt (line 3)) (8.1.7)\n",
      "Requirement already satisfied: regex>=2021.8.3 in /Users/sebastiancb/anaconda3/envs/env-talentotech-project/lib/python3.10/site-packages (from nltk==3.9->-r ../requirements.txt (line 3)) (2024.7.24)\n",
      "Requirement already satisfied: tqdm in /Users/sebastiancb/anaconda3/envs/env-talentotech-project/lib/python3.10/site-packages (from nltk==3.9->-r ../requirements.txt (line 3)) (4.66.5)\n",
      "Requirement already satisfied: spacy-legacy<3.1.0,>=3.0.11 in /Users/sebastiancb/anaconda3/envs/env-talentotech-project/lib/python3.10/site-packages (from spacy==3.7.5->-r ../requirements.txt (line 4)) (3.0.12)\n",
      "Requirement already satisfied: spacy-loggers<2.0.0,>=1.0.0 in /Users/sebastiancb/anaconda3/envs/env-talentotech-project/lib/python3.10/site-packages (from spacy==3.7.5->-r ../requirements.txt (line 4)) (1.0.5)\n",
      "Requirement already satisfied: murmurhash<1.1.0,>=0.28.0 in /Users/sebastiancb/anaconda3/envs/env-talentotech-project/lib/python3.10/site-packages (from spacy==3.7.5->-r ../requirements.txt (line 4)) (1.0.10)\n",
      "Requirement already satisfied: cymem<2.1.0,>=2.0.2 in /Users/sebastiancb/anaconda3/envs/env-talentotech-project/lib/python3.10/site-packages (from spacy==3.7.5->-r ../requirements.txt (line 4)) (2.0.8)\n",
      "Requirement already satisfied: preshed<3.1.0,>=3.0.2 in /Users/sebastiancb/anaconda3/envs/env-talentotech-project/lib/python3.10/site-packages (from spacy==3.7.5->-r ../requirements.txt (line 4)) (3.0.9)\n",
      "Requirement already satisfied: thinc<8.3.0,>=8.2.2 in /Users/sebastiancb/anaconda3/envs/env-talentotech-project/lib/python3.10/site-packages (from spacy==3.7.5->-r ../requirements.txt (line 4)) (8.2.4)\n",
      "Requirement already satisfied: wasabi<1.2.0,>=0.9.1 in /Users/sebastiancb/anaconda3/envs/env-talentotech-project/lib/python3.10/site-packages (from spacy==3.7.5->-r ../requirements.txt (line 4)) (1.1.3)\n",
      "Requirement already satisfied: srsly<3.0.0,>=2.4.3 in /Users/sebastiancb/anaconda3/envs/env-talentotech-project/lib/python3.10/site-packages (from spacy==3.7.5->-r ../requirements.txt (line 4)) (2.4.8)\n",
      "Requirement already satisfied: catalogue<2.1.0,>=2.0.6 in /Users/sebastiancb/anaconda3/envs/env-talentotech-project/lib/python3.10/site-packages (from spacy==3.7.5->-r ../requirements.txt (line 4)) (2.0.10)\n",
      "Requirement already satisfied: weasel<0.5.0,>=0.1.0 in /Users/sebastiancb/anaconda3/envs/env-talentotech-project/lib/python3.10/site-packages (from spacy==3.7.5->-r ../requirements.txt (line 4)) (0.4.1)\n",
      "Requirement already satisfied: typer<1.0.0,>=0.3.0 in /Users/sebastiancb/anaconda3/envs/env-talentotech-project/lib/python3.10/site-packages (from spacy==3.7.5->-r ../requirements.txt (line 4)) (0.12.3)\n",
      "Requirement already satisfied: requests<3.0.0,>=2.13.0 in /Users/sebastiancb/anaconda3/envs/env-talentotech-project/lib/python3.10/site-packages (from spacy==3.7.5->-r ../requirements.txt (line 4)) (2.32.3)\n",
      "Requirement already satisfied: pydantic!=1.8,!=1.8.1,<3.0.0,>=1.7.4 in /Users/sebastiancb/anaconda3/envs/env-talentotech-project/lib/python3.10/site-packages (from spacy==3.7.5->-r ../requirements.txt (line 4)) (2.8.2)\n",
      "Requirement already satisfied: jinja2 in /Users/sebastiancb/anaconda3/envs/env-talentotech-project/lib/python3.10/site-packages (from spacy==3.7.5->-r ../requirements.txt (line 4)) (3.1.4)\n",
      "Requirement already satisfied: setuptools in /Users/sebastiancb/anaconda3/envs/env-talentotech-project/lib/python3.10/site-packages (from spacy==3.7.5->-r ../requirements.txt (line 4)) (72.1.0)\n",
      "Requirement already satisfied: packaging>=20.0 in /Users/sebastiancb/anaconda3/envs/env-talentotech-project/lib/python3.10/site-packages (from spacy==3.7.5->-r ../requirements.txt (line 4)) (24.1)\n",
      "Requirement already satisfied: langcodes<4.0.0,>=3.2.0 in /Users/sebastiancb/anaconda3/envs/env-talentotech-project/lib/python3.10/site-packages (from spacy==3.7.5->-r ../requirements.txt (line 4)) (3.4.0)\n",
      "Requirement already satisfied: smart-open>=1.8.1 in /Users/sebastiancb/anaconda3/envs/env-talentotech-project/lib/python3.10/site-packages (from gensim==4.3.3->-r ../requirements.txt (line 6)) (7.0.4)\n",
      "Requirement already satisfied: language-data>=1.2 in /Users/sebastiancb/anaconda3/envs/env-talentotech-project/lib/python3.10/site-packages (from langcodes<4.0.0,>=3.2.0->spacy==3.7.5->-r ../requirements.txt (line 4)) (1.2.0)\n",
      "Requirement already satisfied: annotated-types>=0.4.0 in /Users/sebastiancb/anaconda3/envs/env-talentotech-project/lib/python3.10/site-packages (from pydantic!=1.8,!=1.8.1,<3.0.0,>=1.7.4->spacy==3.7.5->-r ../requirements.txt (line 4)) (0.7.0)\n",
      "Requirement already satisfied: pydantic-core==2.20.1 in /Users/sebastiancb/anaconda3/envs/env-talentotech-project/lib/python3.10/site-packages (from pydantic!=1.8,!=1.8.1,<3.0.0,>=1.7.4->spacy==3.7.5->-r ../requirements.txt (line 4)) (2.20.1)\n",
      "Requirement already satisfied: typing-extensions>=4.6.1 in /Users/sebastiancb/anaconda3/envs/env-talentotech-project/lib/python3.10/site-packages (from pydantic!=1.8,!=1.8.1,<3.0.0,>=1.7.4->spacy==3.7.5->-r ../requirements.txt (line 4)) (4.12.2)\n",
      "Requirement already satisfied: six>=1.5 in /Users/sebastiancb/anaconda3/envs/env-talentotech-project/lib/python3.10/site-packages (from python-dateutil>=2.8.2->pandas==2.2.2->-r ../requirements.txt (line 1)) (1.16.0)\n",
      "Requirement already satisfied: charset-normalizer<4,>=2 in /Users/sebastiancb/anaconda3/envs/env-talentotech-project/lib/python3.10/site-packages (from requests<3.0.0,>=2.13.0->spacy==3.7.5->-r ../requirements.txt (line 4)) (3.3.2)\n",
      "Requirement already satisfied: idna<4,>=2.5 in /Users/sebastiancb/anaconda3/envs/env-talentotech-project/lib/python3.10/site-packages (from requests<3.0.0,>=2.13.0->spacy==3.7.5->-r ../requirements.txt (line 4)) (3.7)\n",
      "Requirement already satisfied: urllib3<3,>=1.21.1 in /Users/sebastiancb/anaconda3/envs/env-talentotech-project/lib/python3.10/site-packages (from requests<3.0.0,>=2.13.0->spacy==3.7.5->-r ../requirements.txt (line 4)) (2.2.2)\n",
      "Requirement already satisfied: certifi>=2017.4.17 in /Users/sebastiancb/anaconda3/envs/env-talentotech-project/lib/python3.10/site-packages (from requests<3.0.0,>=2.13.0->spacy==3.7.5->-r ../requirements.txt (line 4)) (2024.7.4)\n",
      "Requirement already satisfied: wrapt in /Users/sebastiancb/anaconda3/envs/env-talentotech-project/lib/python3.10/site-packages (from smart-open>=1.8.1->gensim==4.3.3->-r ../requirements.txt (line 6)) (1.16.0)\n",
      "Requirement already satisfied: blis<0.8.0,>=0.7.8 in /Users/sebastiancb/anaconda3/envs/env-talentotech-project/lib/python3.10/site-packages (from thinc<8.3.0,>=8.2.2->spacy==3.7.5->-r ../requirements.txt (line 4)) (0.7.11)\n",
      "Requirement already satisfied: confection<1.0.0,>=0.0.1 in /Users/sebastiancb/anaconda3/envs/env-talentotech-project/lib/python3.10/site-packages (from thinc<8.3.0,>=8.2.2->spacy==3.7.5->-r ../requirements.txt (line 4)) (0.1.5)\n",
      "Requirement already satisfied: shellingham>=1.3.0 in /Users/sebastiancb/anaconda3/envs/env-talentotech-project/lib/python3.10/site-packages (from typer<1.0.0,>=0.3.0->spacy==3.7.5->-r ../requirements.txt (line 4)) (1.5.4)\n",
      "Requirement already satisfied: rich>=10.11.0 in /Users/sebastiancb/anaconda3/envs/env-talentotech-project/lib/python3.10/site-packages (from typer<1.0.0,>=0.3.0->spacy==3.7.5->-r ../requirements.txt (line 4)) (13.7.1)\n",
      "Requirement already satisfied: cloudpathlib<1.0.0,>=0.7.0 in /Users/sebastiancb/anaconda3/envs/env-talentotech-project/lib/python3.10/site-packages (from weasel<0.5.0,>=0.1.0->spacy==3.7.5->-r ../requirements.txt (line 4)) (0.18.1)\n",
      "Requirement already satisfied: MarkupSafe>=2.0 in /Users/sebastiancb/anaconda3/envs/env-talentotech-project/lib/python3.10/site-packages (from jinja2->spacy==3.7.5->-r ../requirements.txt (line 4)) (2.1.5)\n",
      "Requirement already satisfied: marisa-trie>=0.7.7 in /Users/sebastiancb/anaconda3/envs/env-talentotech-project/lib/python3.10/site-packages (from language-data>=1.2->langcodes<4.0.0,>=3.2.0->spacy==3.7.5->-r ../requirements.txt (line 4)) (1.2.0)\n",
      "Requirement already satisfied: markdown-it-py>=2.2.0 in /Users/sebastiancb/anaconda3/envs/env-talentotech-project/lib/python3.10/site-packages (from rich>=10.11.0->typer<1.0.0,>=0.3.0->spacy==3.7.5->-r ../requirements.txt (line 4)) (3.0.0)\n",
      "Requirement already satisfied: pygments<3.0.0,>=2.13.0 in /Users/sebastiancb/anaconda3/envs/env-talentotech-project/lib/python3.10/site-packages (from rich>=10.11.0->typer<1.0.0,>=0.3.0->spacy==3.7.5->-r ../requirements.txt (line 4)) (2.18.0)\n",
      "Requirement already satisfied: mdurl~=0.1 in /Users/sebastiancb/anaconda3/envs/env-talentotech-project/lib/python3.10/site-packages (from markdown-it-py>=2.2.0->rich>=10.11.0->typer<1.0.0,>=0.3.0->spacy==3.7.5->-r ../requirements.txt (line 4)) (0.1.2)\n",
      "Note: you may need to restart the kernel to use updated packages.\n"
     ]
    }
   ],
   "source": [
    "# Instalación de librerías\n",
    "%pip install -r '../requirements.txt'"
   ]
  },
  {
   "cell_type": "code",
   "execution_count": 4,
   "metadata": {},
   "outputs": [],
   "source": [
    "# Importación de librerías\n",
    "# Expresiones regulares\n",
    "import re\n",
    "# Manejo de datos\n",
    "import pandas as pd\n",
    "# Procesamiento de texto\n",
    "import nltk\n",
    "from nltk.corpus import stopwords\n",
    "# Lematizador\n",
    "import spacy\n",
    "import os\n",
    "import urllib.request\n",
    "import json\n",
    "from unidecode import unidecode"
   ]
  },
  {
   "cell_type": "markdown",
   "metadata": {},
   "source": [
    "#### Instalación del modelo de Spacy en español para lematización"
   ]
  },
  {
   "cell_type": "code",
   "execution_count": 5,
   "metadata": {},
   "outputs": [],
   "source": [
    "# Verificar si el modelo ya existe en la carpeta assets\n",
    "if not os.path.exists('./assets/nlp_spacy/es_core_news_lg-3.1.0'):\n",
    "  # Descargar el modelo\n",
    "  url = 'https://github.com/explosion/spacy-models/releases/download/es_core_news_lg-3.1.0/es_core_news_lg-3.1.0.tar.gz'\n",
    "  urllib.request.urlretrieve(url, './assets/nlp_spacy/es_core_news_lg.tar.gz')\n",
    "  # Descomprimir el archivo\n",
    "  os.system('tar -xf ./assets/nlp_spacy/es_core_news_lg.tar.gz -C ./assets/nlp_spacy')\n",
    "  # Eliminar el archivo comprimido\n",
    "  os.remove('assets/nlp_spacy/es_core_news_lg.tar.gz')"
   ]
  },
  {
   "cell_type": "code",
   "execution_count": 6,
   "metadata": {},
   "outputs": [],
   "source": [
    "# Carga de datos\n",
    "datos_entrenamiento = pd.read_csv('../2-traduccion-dataset/result/dataset-spanish-tweets-train-translated.csv', delimiter=',', encoding='utf-8')\n",
    "datos_prueba = pd.read_csv('../2-traduccion-dataset/result/dataset-spanish-tweets-test-translated.csv', delimiter=',', encoding='utf-8')\n",
    "datos_validacion = pd.read_csv('../2-traduccion-dataset/result/dataset-spanish-tweets-validation-translated.csv', delimiter=',', encoding='utf-8')"
   ]
  },
  {
   "cell_type": "code",
   "execution_count": 7,
   "metadata": {},
   "outputs": [],
   "source": [
    "# Definición de clase para el preprocesamiento de datos\n",
    "\n",
    "class Preprocesamiento:\n",
    "  stopwords_es = []\n",
    "  stopwords_en = []\n",
    "  nlp = None\n",
    "\n",
    "  def __init__(self):\n",
    "    nltk.download('stopwords')\n",
    "    nltk.download('punkt_tab')\n",
    "    # Cargar el modelo de lenguaje en español\n",
    "    self.nlp = spacy.load('assets/nlp_spacy/es_core_news_lg-3.1.0/es_core_news_lg/es_core_news_lg-3.1.0/')\n",
    "    self.stopwords_es = stopwords.words('spanish')\n",
    "    self.stopwords_en = stopwords.words('english')\n",
    "    pass\n",
    "\n",
    "  # Función principal para preprocesar texto\n",
    "  def preprocesar_texto(self, texto: str) -> list[str]:\n",
    "    nuevo_texto = self.pasar_a_minusculas(texto)\n",
    "    tokens = self.tokenizar_texto(nuevo_texto)\n",
    "    tokens = self.eliminar_ruido(tokens)\n",
    "    tokens = self.reducir_palabras_extendidas(tokens)\n",
    "    tokens = self.eliminar_stopwords(tokens)\n",
    "    tokens = self.limitar_caracteres(tokens)\n",
    "    tokens = self.eliminar_espacios(tokens)\n",
    "    tokens = self.lematizar_tokens(tokens)\n",
    "    tokens = self.eliminar_tokens_cortos(tokens)\n",
    "    return tokens\n",
    "\n",
    "  # Paso 1: Convertir el texto a minúsculas\n",
    "  def pasar_a_minusculas(self, texto: str) -> str:\n",
    "    texto_str = str(texto)\n",
    "    return texto_str.lower()\n",
    "\n",
    "  # Paso 2: Tokenizar el texto\n",
    "  # Ejemplo: \"Hola, ¿cómo estás?\" -> [\"Hola,\", \"¿cómo\", \"estás?\"]\n",
    "  def tokenizar_texto(self, texto: str) -> list[str]:\n",
    "    texto_tokenizado = texto.split(' ')\n",
    "    texto_tokenizado = self.limpiar_tokens(texto_tokenizado)\n",
    "    texto_tokenizado_limpio = self.eliminar_ruido(texto_tokenizado)\n",
    "    texto_tokenizado_limpio = self.reducir_palabras_extendidas(texto_tokenizado_limpio)\n",
    "    return texto_tokenizado_limpio\n",
    "\n",
    "  # Paso 3: Eliminar ruido como URLs, menciones y hashtags\n",
    "  # Ejemplo: [\"Hola,\"@sebastian, \"http://www.google.com\", \"#InteligenciaArtificial\", \"¿cómo\", \"estás?\"] -> [\"Hola,\", \"¿cómo\", \"estás?\"]\n",
    "  def eliminar_ruido(self, tokens: list[str]) -> list[str]:\n",
    "    if len(tokens) == 0: return []\n",
    "    # Eliminar URLs\n",
    "    lista_limpia = []\n",
    "    for token in tokens:\n",
    "      if not token.startswith('http'):\n",
    "        lista_limpia.append(token)\n",
    "    # Eliminar Hashtags\n",
    "    lista_limpia = [token for token in lista_limpia if not token.startswith('#')]\n",
    "    # Eliminar menciones\n",
    "    lista_limpia = [token for token in lista_limpia if not token.startswith('@')]\n",
    "    return lista_limpia\n",
    "\n",
    "  # Paso 4: Reducir palabras extendidas\n",
    "  # Ejemplo: [\"Holaaaa\"] -> [\"Hola\"]\n",
    "  def reducir_palabras_extendidas(self, tokens: list[str]) -> list[str]:\n",
    "    if len(tokens) == 0: return []\n",
    "    for i in range(len(tokens)):\n",
    "      tokens[i] = re.sub(r'(.)\\1{2,}', r'\\1\\1', tokens[i])\n",
    "    return tokens\n",
    "\n",
    "  # Paso 5: Eliminar stopwords\n",
    "  def eliminar_stopwords(self, tokens: list[str]) -> list[str]:\n",
    "    if len(tokens) == 0: return []\n",
    "    tokens_limpio = [token for token in tokens if token not in self.stopwords_es]\n",
    "    tokens_limpio = [token for token in tokens_limpio if token not in self.stopwords_en]\n",
    "    return tokens_limpio\n",
    "\n",
    "  # Paso 6: Limitar caracteres solo a letras\n",
    "  def limitar_caracteres(self, tokens: list[str]) -> list[str]:\n",
    "    if len(tokens) == 0: return []\n",
    "    tokens_limpio = self.eliminar_acentos(tokens)\n",
    "    tokens_limpio = [re.sub(r'[^a-zA-Z]', '', token) for token in tokens_limpio]\n",
    "    tokens_limpio = self.limpiar_tokens(tokens_limpio)\n",
    "    return tokens_limpio\n",
    "\n",
    "  # Paso 7: Eliminar espacios en blanco adicionales\n",
    "  def eliminar_espacios(self, tokens: list[str]) -> list[str]:\n",
    "    if len(tokens) == 0: return []\n",
    "    tokens_limpio = self.limpiar_tokens(tokens)\n",
    "    tokens_limpio = [token.strip() for token in tokens]\n",
    "    return tokens_limpio\n",
    "\n",
    "  # Paso 8: Lematizar tokens\n",
    "  def lematizar_tokens(self, tokens: list[str]) -> list[str]:\n",
    "    if len(tokens) == 0: return []\n",
    "    tokens_lematizados = []\n",
    "    for token in tokens:\n",
    "        doc = self.nlp(token)\n",
    "        # Obtener la primera palabra lematizada\n",
    "        lemma = doc[0].lemma_.split()[0]\n",
    "        tokens_lematizados.append(lemma)\n",
    "    tokens_lematizados = self.eliminar_acentos(tokens_lematizados)\n",
    "    return tokens_lematizados\n",
    "\n",
    "  # Paso 9: Eliminar tokens con longitud menor a 3\n",
    "  def eliminar_tokens_cortos(self, tokens: list[str]) -> list[str]:\n",
    "    if len(tokens) == 0: return []\n",
    "    tokens_limpio = [token for token in tokens if len(token) > 2]\n",
    "    return tokens_limpio\n",
    "\n",
    "  # Helper 1: Limpiar tokens\n",
    "  # Ejemplo: [\"Hola,\", \"\", \"¿cómo\", \"estás?\"] -> [\"Hola,\", \"¿cómo\", \"estás?\"]\n",
    "  def limpiar_tokens(self, tokens: list[str]) -> list[str]:\n",
    "    if len(tokens) == 0: return []\n",
    "    tokens_limpio = [token for token in tokens if token != '']\n",
    "    return tokens_limpio\n",
    "\n",
    "  # Helper 2: Eliminar acentos\n",
    "  # Ejemplo: [\"Hóla\", \"¿cómo\", \"estás?\"] -> [\"Hola\", \"¿como\", \"estas?\"]\n",
    "  def eliminar_acentos(self, tokens: list[str]) -> list[str]:\n",
    "    if len(tokens) == 0: return []\n",
    "    tokens_copy = tokens.copy()\n",
    "\n",
    "    for i in range(len(tokens_copy)):\n",
    "      tokens_copy[i] = unidecode(tokens_copy[i])\n",
    "      tokens_copy[i] = tokens_copy[i].replace('ñ', 'n')\n",
    "    return tokens_copy"
   ]
  },
  {
   "cell_type": "code",
   "execution_count": 8,
   "metadata": {},
   "outputs": [
    {
     "name": "stderr",
     "output_type": "stream",
     "text": [
      "[nltk_data] Downloading package stopwords to\n",
      "[nltk_data]     /Users/sebastiancb/nltk_data...\n",
      "[nltk_data]   Package stopwords is already up-to-date!\n",
      "[nltk_data] Downloading package punkt_tab to\n",
      "[nltk_data]     /Users/sebastiancb/nltk_data...\n",
      "[nltk_data]   Package punkt_tab is already up-to-date!\n",
      "/Users/sebastiancb/anaconda3/envs/env-talentotech-project/lib/python3.10/site-packages/spacy/util.py:910: UserWarning: [W095] Model 'es_core_news_lg' (3.1.0) was trained with spaCy v3.1.0 and may not be 100% compatible with the current version (3.7.5). If you see errors or degraded performance, download a newer compatible model or retrain your custom model with the current spaCy version. For more details and available updates, run: python -m spacy validate\n",
      "  warnings.warn(warn_msg)\n"
     ]
    }
   ],
   "source": [
    "# Preprocesamiento de datos\n",
    "preprocesamiento = Preprocesamiento()"
   ]
  },
  {
   "cell_type": "code",
   "execution_count": 9,
   "metadata": {},
   "outputs": [],
   "source": [
    "# Aplicar preprocesamiento a los datos de entrenamiento\n",
    "datos_entrenamiento['text'] = datos_entrenamiento['text'].apply(lambda x: preprocesamiento.preprocesar_texto(x))\n",
    "datos_prueba['text'] = datos_prueba['text'].apply(lambda x: preprocesamiento.preprocesar_texto(x))\n",
    "datos_validacion['text'] = datos_validacion['text'].apply(lambda x: preprocesamiento.preprocesar_texto(x))"
   ]
  },
  {
   "cell_type": "code",
   "execution_count": 10,
   "metadata": {},
   "outputs": [],
   "source": [
    "# Remover filas con textos donde la longitud sea 0\n",
    "datos_entrenamiento = datos_entrenamiento[datos_entrenamiento['text'].map(len) > 0]\n",
    "datos_prueba = datos_prueba[datos_prueba['text'].map(len) > 0]\n",
    "datos_validacion = datos_validacion[datos_validacion['text'].map(len) > 0]"
   ]
  },
  {
   "cell_type": "code",
   "execution_count": 11,
   "metadata": {},
   "outputs": [],
   "source": [
    "# Convertir JSON la columna 'text' para guardar en CSV\n",
    "datos_entrenamiento['text'] = datos_entrenamiento['text'].apply(lambda x: json.dumps(x))\n",
    "datos_prueba['text'] = datos_prueba['text'].apply(lambda x: json.dumps(x))\n",
    "datos_validacion['text'] = datos_validacion['text'].apply(lambda x: json.dumps(x))"
   ]
  },
  {
   "cell_type": "code",
   "execution_count": 12,
   "metadata": {},
   "outputs": [],
   "source": [
    "# Guardar los datos preprocesados\n",
    "datos_entrenamiento.to_csv('./dist/dataset-spanish-tweets-train-preprocessed.csv', index=False, encoding='utf-8')\n",
    "datos_prueba.to_csv('./dist/dataset-spanish-tweets-test-preprocessed.csv', index=False, encoding='utf-8')\n",
    "datos_validacion.to_csv('./dist/dataset-spanish-tweets-validation-preprocessed.csv', index=False, encoding='utf-8')"
   ]
  }
 ],
 "metadata": {
  "kernelspec": {
   "display_name": "env-talentotech-project",
   "language": "python",
   "name": "python3"
  },
  "language_info": {
   "codemirror_mode": {
    "name": "ipython",
    "version": 3
   },
   "file_extension": ".py",
   "mimetype": "text/x-python",
   "name": "python",
   "nbconvert_exporter": "python",
   "pygments_lexer": "ipython3",
   "version": "3.10.14"
  }
 },
 "nbformat": 4,
 "nbformat_minor": 2
}
