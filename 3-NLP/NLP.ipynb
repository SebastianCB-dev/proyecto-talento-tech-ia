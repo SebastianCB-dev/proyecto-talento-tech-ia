{
 "cells": [
  {
   "cell_type": "markdown",
   "metadata": {},
   "source": [
    "### NLP - Natural Language Processing (Procesamiento de Lenguaje Natural)\n",
    "\n",
    "En este notebook se hará el procesamiento de lenguaje natural (NLP) en los comentarios de los datasets de entrenamiento y prueba. Se utilizará la librería `nltk` para realizar el procesamiento de los comentarios.\n",
    "\n",
    "Lo que se hará es:\n",
    "1. Convertir los comentarios a minúsculas\n",
    "2. Tokenizar los comentarios\n",
    "3. Eliminar contenido que hace ruido -> URLs, menciones, hashtags, etc.\n",
    "4. Reducir palabras extendidas (como \"Holaaaaaaa\" a \"Hola\")\n",
    "5. Eliminar las palabras vacías (stopwords)\n",
    "6. limitar caracteres solo letras\n",
    "7. Eliminar los espacios en blanco\n",
    "8. Lematizar las palabras\n",
    "9. Eliminar tokens que tenga menos de 3 caracteres\n",
    "\n",
    "Luego una vez ya queden los tokens limpios, se entrenará un Word2Vec para obtener los vectores de palabras de los comentarios. (Promedio de los vectores de palabras de cada comentario)"
   ]
  },
  {
   "cell_type": "code",
   "execution_count": null,
   "metadata": {},
   "outputs": [],
   "source": [
    "from IPython.core.display import display, HTML; display(HTML('<style>.output_wrapper, .output {height:auto !important; max-height:150px;}.output_scroll {box-shadow:none !important; webkit-box-shadow:none !important;}</style>'))"
   ]
  },
  {
   "cell_type": "code",
   "execution_count": null,
   "metadata": {},
   "outputs": [],
   "source": [
    "# !IGNORA ESTA CELDA!\n",
    "# Esto es para que las celdas de la notebook se ajusten a la altura del contenido\n",
    "from IPython.core.display import display, HTML; display(HTML('<style>.output_wrapper, .output {height:auto !important; max-height:150px;}.output_scroll {box-shadow:none !important; webkit-box-shadow:none !important;}</style>'))"
   ]
  },
  {
   "cell_type": "code",
   "execution_count": null,
   "metadata": {},
   "outputs": [],
   "source": [
    "# Instalación de librerías\n",
    "%pip install -r '../requirements.txt'"
   ]
  },
  {
   "cell_type": "code",
   "execution_count": null,
   "metadata": {},
   "outputs": [],
   "source": [
    "# Importación de librerías\n",
    "# Expresiones regulares\n",
    "import re\n",
    "# Manejo de datos\n",
    "import pandas as pd\n",
    "# Procesamiento de texto\n",
    "import nltk\n",
    "from nltk.corpus import stopwords\n",
    "# Lematizador\n",
    "import spacy\n",
    "import os\n",
    "import urllib.request\n",
    "import json\n",
    "from unidecode import unidecode"
   ]
  },
  {
   "cell_type": "markdown",
   "metadata": {},
   "source": [
    "#### Instalación del modelo de Spacy en español para lematización"
   ]
  },
  {
   "cell_type": "code",
   "execution_count": null,
   "metadata": {},
   "outputs": [],
   "source": [
    "# Verificar si el modelo ya existe en la carpeta assets\n",
    "if not os.path.exists('./assets/nlp_spacy/es_core_news_lg-3.1.0'):\n",
    "  # Descargar el modelo\n",
    "  url = 'https://github.com/explosion/spacy-models/releases/download/es_core_news_lg-3.1.0/es_core_news_lg-3.1.0.tar.gz'\n",
    "  urllib.request.urlretrieve(url, './assets/nlp_spacy/es_core_news_lg.tar.gz')\n",
    "  # Descomprimir el archivo\n",
    "  os.system('tar -xf ./assets/nlp_spacy/es_core_news_lg.tar.gz -C ./assets/nlp_spacy')\n",
    "  # Eliminar el archivo comprimido\n",
    "  os.remove('assets/nlp_spacy/es_core_news_lg.tar.gz')"
   ]
  },
  {
   "cell_type": "code",
   "execution_count": null,
   "metadata": {},
   "outputs": [],
   "source": [
    "# Carga de datos\n",
    "datos_entrenamiento = pd.read_csv('../2-traduccion-dataset/result/dataset-spanish-tweets-train-translated.csv', delimiter=',', encoding='utf-8')\n",
    "datos_prueba = pd.read_csv('../2-traduccion-dataset/result/dataset-spanish-tweets-test-translated.csv', delimiter=',', encoding='utf-8')\n",
    "datos_validacion = pd.read_csv('../2-traduccion-dataset/result/dataset-spanish-tweets-validation-translated.csv', delimiter=',', encoding='utf-8')"
   ]
  },
  {
   "cell_type": "code",
   "execution_count": null,
   "metadata": {},
   "outputs": [],
   "source": [
    "# Definición de clase para el preprocesamiento de datos\n",
    "\n",
    "class Preprocesamiento:\n",
    "  stopwords_es = []\n",
    "  stopwords_en = []\n",
    "  nlp = None\n",
    "\n",
    "  def __init__(self):\n",
    "    nltk.download('stopwords')\n",
    "    nltk.download('punkt_tab')\n",
    "    # Cargar el modelo de lenguaje en español\n",
    "    self.nlp = spacy.load('assets/nlp_spacy/es_core_news_lg-3.1.0/es_core_news_lg/es_core_news_lg-3.1.0/')\n",
    "    self.stopwords_es = stopwords.words('spanish')\n",
    "    self.stopwords_en = stopwords.words('english')\n",
    "    pass\n",
    "\n",
    "  # Función principal para preprocesar texto\n",
    "  def preprocesar_texto(self, texto: str) -> list[str]:\n",
    "    nuevo_texto = self.pasar_a_minusculas(texto)\n",
    "    tokens = self.tokenizar_texto(nuevo_texto)\n",
    "    tokens = self.eliminar_ruido(tokens)\n",
    "    tokens = self.reducir_palabras_extendidas(tokens)\n",
    "    tokens = self.eliminar_stopwords(tokens)\n",
    "    tokens = self.limitar_caracteres(tokens)\n",
    "    tokens = self.eliminar_espacios(tokens)\n",
    "    tokens = self.lematizar_tokens(tokens)\n",
    "    tokens = self.eliminar_tokens_cortos(tokens)\n",
    "    return tokens\n",
    "\n",
    "  # Paso 1: Convertir el texto a minúsculas\n",
    "  def pasar_a_minusculas(self, texto: str) -> str:\n",
    "    texto_str = str(texto)\n",
    "    return texto_str.lower()\n",
    "\n",
    "  # Paso 2: Tokenizar el texto\n",
    "  # Ejemplo: \"Hola, ¿cómo estás?\" -> [\"Hola,\", \"¿cómo\", \"estás?\"]\n",
    "  def tokenizar_texto(self, texto: str) -> list[str]:\n",
    "    texto_tokenizado = texto.split(' ')\n",
    "    texto_tokenizado = self.limpiar_tokens(texto_tokenizado)\n",
    "    texto_tokenizado_limpio = self.eliminar_ruido(texto_tokenizado)\n",
    "    texto_tokenizado_limpio = self.reducir_palabras_extendidas(texto_tokenizado_limpio)\n",
    "    return texto_tokenizado_limpio\n",
    "\n",
    "  # Paso 3: Eliminar ruido como URLs, menciones y hashtags\n",
    "  # Ejemplo: [\"Hola,\"@sebastian, \"http://www.google.com\", \"#InteligenciaArtificial\", \"¿cómo\", \"estás?\"] -> [\"Hola,\", \"¿cómo\", \"estás?\"]\n",
    "  def eliminar_ruido(self, tokens: list[str]) -> list[str]:\n",
    "    if len(tokens) == 0: return []\n",
    "    # Eliminar URLs\n",
    "    lista_limpia = []\n",
    "    for token in tokens:\n",
    "      if not token.startswith('http'):\n",
    "        lista_limpia.append(token)\n",
    "    # Eliminar Hashtags\n",
    "    lista_limpia = [token for token in lista_limpia if not token.startswith('#')]\n",
    "    # Eliminar menciones\n",
    "    lista_limpia = [token for token in lista_limpia if not token.startswith('@')]\n",
    "    return lista_limpia\n",
    "\n",
    "  # Paso 4: Reducir palabras extendidas\n",
    "  # Ejemplo: [\"Holaaaa\"] -> [\"Hola\"]\n",
    "  def reducir_palabras_extendidas(self, tokens: list[str]) -> list[str]:\n",
    "    if len(tokens) == 0: return []\n",
    "    for i in range(len(tokens)):\n",
    "      tokens[i] = re.sub(r'(.)\\1{2,}', r'\\1\\1', tokens[i])\n",
    "    return tokens\n",
    "\n",
    "  # Paso 5: Eliminar stopwords\n",
    "  def eliminar_stopwords(self, tokens: list[str]) -> list[str]:\n",
    "    if len(tokens) == 0: return []\n",
    "    tokens_limpio = [token for token in tokens if token not in self.stopwords_es]\n",
    "    tokens_limpio = [token for token in tokens_limpio if token not in self.stopwords_en]\n",
    "    return tokens_limpio\n",
    "\n",
    "  # Paso 6: Limitar caracteres solo a letras\n",
    "  def limitar_caracteres(self, tokens: list[str]) -> list[str]:\n",
    "    if len(tokens) == 0: return []\n",
    "    tokens_limpio = self.eliminar_acentos(tokens)\n",
    "    tokens_limpio = [re.sub(r'[^a-zA-Z]', '', token) for token in tokens_limpio]\n",
    "    tokens_limpio = self.limpiar_tokens(tokens_limpio)\n",
    "    return tokens_limpio\n",
    "\n",
    "  # Paso 7: Eliminar espacios en blanco adicionales\n",
    "  def eliminar_espacios(self, tokens: list[str]) -> list[str]:\n",
    "    if len(tokens) == 0: return []\n",
    "    tokens_limpio = self.limpiar_tokens(tokens)\n",
    "    tokens_limpio = [token.strip() for token in tokens]\n",
    "    return tokens_limpio\n",
    "\n",
    "  # Paso 8: Lematizar tokens\n",
    "  def lematizar_tokens(self, tokens: list[str]) -> list[str]:\n",
    "    if len(tokens) == 0: return []\n",
    "    tokens_lematizados = []\n",
    "    for token in tokens:\n",
    "        doc = self.nlp(token)\n",
    "        # Obtener la primera palabra lematizada\n",
    "        lemma = doc[0].lemma_.split()[0]\n",
    "        tokens_lematizados.append(lemma)\n",
    "    tokens_lematizados = self.eliminar_acentos(tokens_lematizados)\n",
    "    return tokens_lematizados\n",
    "\n",
    "  # Paso 9: Eliminar tokens con longitud menor a 3\n",
    "  def eliminar_tokens_cortos(self, tokens: list[str]) -> list[str]:\n",
    "    if len(tokens) == 0: return []\n",
    "    tokens_limpio = [token for token in tokens if len(token) > 2]\n",
    "    return tokens_limpio\n",
    "\n",
    "  # Helper 1: Limpiar tokens\n",
    "  # Ejemplo: [\"Hola,\", \"\", \"¿cómo\", \"estás?\"] -> [\"Hola,\", \"¿cómo\", \"estás?\"]\n",
    "  def limpiar_tokens(self, tokens: list[str]) -> list[str]:\n",
    "    if len(tokens) == 0: return []\n",
    "    tokens_limpio = [token for token in tokens if token != '']\n",
    "    return tokens_limpio\n",
    "\n",
    "  # Helper 2: Eliminar acentos\n",
    "  # Ejemplo: [\"Hóla\", \"¿cómo\", \"estás?\"] -> [\"Hola\", \"¿como\", \"estas?\"]\n",
    "  def eliminar_acentos(self, tokens: list[str]) -> list[str]:\n",
    "    if len(tokens) == 0: return []\n",
    "    tokens_copy = tokens.copy()\n",
    "\n",
    "    for i in range(len(tokens_copy)):\n",
    "      tokens_copy[i] = unidecode(tokens_copy[i])\n",
    "      tokens_copy[i] = tokens_copy[i].replace('ñ', 'n')\n",
    "    return tokens_copy"
   ]
  },
  {
   "cell_type": "code",
   "execution_count": null,
   "metadata": {},
   "outputs": [],
   "source": [
    "# Preprocesamiento de datos\n",
    "preprocesamiento = Preprocesamiento()"
   ]
  },
  {
   "cell_type": "code",
   "execution_count": null,
   "metadata": {},
   "outputs": [],
   "source": [
    "# Aplicar preprocesamiento a los datos de entrenamiento\n",
    "datos_entrenamiento['text'] = datos_entrenamiento['text'].apply(lambda x: preprocesamiento.preprocesar_texto(x))\n",
    "datos_prueba['text'] = datos_prueba['text'].apply(lambda x: preprocesamiento.preprocesar_texto(x))\n",
    "datos_validacion['text'] = datos_validacion['text'].apply(lambda x: preprocesamiento.preprocesar_texto(x))"
   ]
  },
  {
   "cell_type": "code",
   "execution_count": null,
   "metadata": {},
   "outputs": [],
   "source": [
    "# Remover filas con textos donde la longitud sea 0\n",
    "datos_entrenamiento = datos_entrenamiento[datos_entrenamiento['text'].map(len) > 0]\n",
    "datos_prueba = datos_prueba[datos_prueba['text'].map(len) > 0]\n",
    "datos_validacion = datos_validacion[datos_validacion['text'].map(len) > 0]"
   ]
  },
  {
   "cell_type": "code",
   "execution_count": null,
   "metadata": {},
   "outputs": [],
   "source": [
    "# Convertir JSON la columna 'text' para guardar en CSV\n",
    "datos_entrenamiento['text'] = datos_entrenamiento['text'].apply(lambda x: json.dumps(x))\n",
    "datos_prueba['text'] = datos_prueba['text'].apply(lambda x: json.dumps(x))\n",
    "datos_validacion['text'] = datos_validacion['text'].apply(lambda x: json.dumps(x))"
   ]
  },
  {
   "cell_type": "code",
   "execution_count": null,
   "metadata": {},
   "outputs": [],
   "source": [
    "# Guardar los datos preprocesados\n",
    "datos_entrenamiento.to_csv('./dist/dataset-spanish-tweets-train-preprocessed.csv', index=False, encoding='utf-8')\n",
    "datos_prueba.to_csv('./dist/dataset-spanish-tweets-test-preprocessed.csv', index=False, encoding='utf-8')\n",
    "datos_validacion.to_csv('./dist/dataset-spanish-tweets-validation-preprocessed.csv', index=False, encoding='utf-8')"
   ]
  }
 ],
 "metadata": {
  "kernelspec": {
   "display_name": "env-talentotech-project",
   "language": "python",
   "name": "python3"
  },
  "language_info": {
   "codemirror_mode": {
    "name": "ipython",
    "version": 3
   },
   "file_extension": ".py",
   "mimetype": "text/x-python",
   "name": "python",
   "nbconvert_exporter": "python",
   "pygments_lexer": "ipython3",
   "version": "3.10.14"
  }
 },
 "nbformat": 4,
 "nbformat_minor": 2
}
