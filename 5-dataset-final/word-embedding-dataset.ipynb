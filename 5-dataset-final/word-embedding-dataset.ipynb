{
 "cells": [
  {
   "cell_type": "markdown",
   "metadata": {},
   "source": [
    "## Word Embedding dataset\n",
    "\n",
    "En este notebook se va a convertir los tokens de los textos en un vector promedio de los embeddings de las palabras. Para ello se va a utilizar el modelo de embeddings de palabras preentrenadas en el notebook del paso anterior.\n",
    "\n",
    "Al final tendremos el dataset con 201 columnas -> 200 columnas de embeddings y 1 columna de la variable objetivo."
   ]
  },
  {
   "cell_type": "code",
   "execution_count": 31,
   "metadata": {},
   "outputs": [
    {
     "name": "stdout",
     "output_type": "stream",
     "text": [
      "Requirement already satisfied: pandas==2.2.2 in /Users/sebastiancb/anaconda3/envs/env-talentotech-project/lib/python3.10/site-packages (from -r ../requirements.txt (line 1)) (2.2.2)\n",
      "Requirement already satisfied: scikit-learn==1.5.1 in /Users/sebastiancb/anaconda3/envs/env-talentotech-project/lib/python3.10/site-packages (from -r ../requirements.txt (line 2)) (1.5.1)\n",
      "Requirement already satisfied: nltk==3.9 in /Users/sebastiancb/anaconda3/envs/env-talentotech-project/lib/python3.10/site-packages (from -r ../requirements.txt (line 3)) (3.9)\n",
      "Requirement already satisfied: spacy==3.7.5 in /Users/sebastiancb/anaconda3/envs/env-talentotech-project/lib/python3.10/site-packages (from -r ../requirements.txt (line 4)) (3.7.5)\n",
      "Requirement already satisfied: numpy==1.26.4 in /Users/sebastiancb/anaconda3/envs/env-talentotech-project/lib/python3.10/site-packages (from -r ../requirements.txt (line 5)) (1.26.4)\n",
      "Requirement already satisfied: gensim==4.3.3 in /Users/sebastiancb/anaconda3/envs/env-talentotech-project/lib/python3.10/site-packages (from -r ../requirements.txt (line 6)) (4.3.3)\n",
      "Requirement already satisfied: python-dateutil>=2.8.2 in /Users/sebastiancb/anaconda3/envs/env-talentotech-project/lib/python3.10/site-packages (from pandas==2.2.2->-r ../requirements.txt (line 1)) (2.9.0)\n",
      "Requirement already satisfied: pytz>=2020.1 in /Users/sebastiancb/anaconda3/envs/env-talentotech-project/lib/python3.10/site-packages (from pandas==2.2.2->-r ../requirements.txt (line 1)) (2024.1)\n",
      "Requirement already satisfied: tzdata>=2022.7 in /Users/sebastiancb/anaconda3/envs/env-talentotech-project/lib/python3.10/site-packages (from pandas==2.2.2->-r ../requirements.txt (line 1)) (2024.1)\n",
      "Requirement already satisfied: scipy>=1.6.0 in /Users/sebastiancb/anaconda3/envs/env-talentotech-project/lib/python3.10/site-packages (from scikit-learn==1.5.1->-r ../requirements.txt (line 2)) (1.13.1)\n",
      "Requirement already satisfied: joblib>=1.2.0 in /Users/sebastiancb/anaconda3/envs/env-talentotech-project/lib/python3.10/site-packages (from scikit-learn==1.5.1->-r ../requirements.txt (line 2)) (1.4.2)\n",
      "Requirement already satisfied: threadpoolctl>=3.1.0 in /Users/sebastiancb/anaconda3/envs/env-talentotech-project/lib/python3.10/site-packages (from scikit-learn==1.5.1->-r ../requirements.txt (line 2)) (3.5.0)\n",
      "Requirement already satisfied: click in /Users/sebastiancb/anaconda3/envs/env-talentotech-project/lib/python3.10/site-packages (from nltk==3.9->-r ../requirements.txt (line 3)) (8.1.7)\n",
      "Requirement already satisfied: regex>=2021.8.3 in /Users/sebastiancb/anaconda3/envs/env-talentotech-project/lib/python3.10/site-packages (from nltk==3.9->-r ../requirements.txt (line 3)) (2024.7.24)\n",
      "Requirement already satisfied: tqdm in /Users/sebastiancb/anaconda3/envs/env-talentotech-project/lib/python3.10/site-packages (from nltk==3.9->-r ../requirements.txt (line 3)) (4.66.5)\n",
      "Requirement already satisfied: spacy-legacy<3.1.0,>=3.0.11 in /Users/sebastiancb/anaconda3/envs/env-talentotech-project/lib/python3.10/site-packages (from spacy==3.7.5->-r ../requirements.txt (line 4)) (3.0.12)\n",
      "Requirement already satisfied: spacy-loggers<2.0.0,>=1.0.0 in /Users/sebastiancb/anaconda3/envs/env-talentotech-project/lib/python3.10/site-packages (from spacy==3.7.5->-r ../requirements.txt (line 4)) (1.0.5)\n",
      "Requirement already satisfied: murmurhash<1.1.0,>=0.28.0 in /Users/sebastiancb/anaconda3/envs/env-talentotech-project/lib/python3.10/site-packages (from spacy==3.7.5->-r ../requirements.txt (line 4)) (1.0.10)\n",
      "Requirement already satisfied: cymem<2.1.0,>=2.0.2 in /Users/sebastiancb/anaconda3/envs/env-talentotech-project/lib/python3.10/site-packages (from spacy==3.7.5->-r ../requirements.txt (line 4)) (2.0.8)\n",
      "Requirement already satisfied: preshed<3.1.0,>=3.0.2 in /Users/sebastiancb/anaconda3/envs/env-talentotech-project/lib/python3.10/site-packages (from spacy==3.7.5->-r ../requirements.txt (line 4)) (3.0.9)\n",
      "Requirement already satisfied: thinc<8.3.0,>=8.2.2 in /Users/sebastiancb/anaconda3/envs/env-talentotech-project/lib/python3.10/site-packages (from spacy==3.7.5->-r ../requirements.txt (line 4)) (8.2.4)\n",
      "Requirement already satisfied: wasabi<1.2.0,>=0.9.1 in /Users/sebastiancb/anaconda3/envs/env-talentotech-project/lib/python3.10/site-packages (from spacy==3.7.5->-r ../requirements.txt (line 4)) (1.1.3)\n",
      "Requirement already satisfied: srsly<3.0.0,>=2.4.3 in /Users/sebastiancb/anaconda3/envs/env-talentotech-project/lib/python3.10/site-packages (from spacy==3.7.5->-r ../requirements.txt (line 4)) (2.4.8)\n",
      "Requirement already satisfied: catalogue<2.1.0,>=2.0.6 in /Users/sebastiancb/anaconda3/envs/env-talentotech-project/lib/python3.10/site-packages (from spacy==3.7.5->-r ../requirements.txt (line 4)) (2.0.10)\n",
      "Requirement already satisfied: weasel<0.5.0,>=0.1.0 in /Users/sebastiancb/anaconda3/envs/env-talentotech-project/lib/python3.10/site-packages (from spacy==3.7.5->-r ../requirements.txt (line 4)) (0.4.1)\n",
      "Requirement already satisfied: typer<1.0.0,>=0.3.0 in /Users/sebastiancb/anaconda3/envs/env-talentotech-project/lib/python3.10/site-packages (from spacy==3.7.5->-r ../requirements.txt (line 4)) (0.12.3)\n",
      "Requirement already satisfied: requests<3.0.0,>=2.13.0 in /Users/sebastiancb/anaconda3/envs/env-talentotech-project/lib/python3.10/site-packages (from spacy==3.7.5->-r ../requirements.txt (line 4)) (2.32.3)\n",
      "Requirement already satisfied: pydantic!=1.8,!=1.8.1,<3.0.0,>=1.7.4 in /Users/sebastiancb/anaconda3/envs/env-talentotech-project/lib/python3.10/site-packages (from spacy==3.7.5->-r ../requirements.txt (line 4)) (2.8.2)\n",
      "Requirement already satisfied: jinja2 in /Users/sebastiancb/anaconda3/envs/env-talentotech-project/lib/python3.10/site-packages (from spacy==3.7.5->-r ../requirements.txt (line 4)) (3.1.4)\n",
      "Requirement already satisfied: setuptools in /Users/sebastiancb/anaconda3/envs/env-talentotech-project/lib/python3.10/site-packages (from spacy==3.7.5->-r ../requirements.txt (line 4)) (72.1.0)\n",
      "Requirement already satisfied: packaging>=20.0 in /Users/sebastiancb/anaconda3/envs/env-talentotech-project/lib/python3.10/site-packages (from spacy==3.7.5->-r ../requirements.txt (line 4)) (24.1)\n",
      "Requirement already satisfied: langcodes<4.0.0,>=3.2.0 in /Users/sebastiancb/anaconda3/envs/env-talentotech-project/lib/python3.10/site-packages (from spacy==3.7.5->-r ../requirements.txt (line 4)) (3.4.0)\n",
      "Requirement already satisfied: smart-open>=1.8.1 in /Users/sebastiancb/anaconda3/envs/env-talentotech-project/lib/python3.10/site-packages (from gensim==4.3.3->-r ../requirements.txt (line 6)) (7.0.4)\n",
      "Requirement already satisfied: language-data>=1.2 in /Users/sebastiancb/anaconda3/envs/env-talentotech-project/lib/python3.10/site-packages (from langcodes<4.0.0,>=3.2.0->spacy==3.7.5->-r ../requirements.txt (line 4)) (1.2.0)\n",
      "Requirement already satisfied: annotated-types>=0.4.0 in /Users/sebastiancb/anaconda3/envs/env-talentotech-project/lib/python3.10/site-packages (from pydantic!=1.8,!=1.8.1,<3.0.0,>=1.7.4->spacy==3.7.5->-r ../requirements.txt (line 4)) (0.7.0)\n",
      "Requirement already satisfied: pydantic-core==2.20.1 in /Users/sebastiancb/anaconda3/envs/env-talentotech-project/lib/python3.10/site-packages (from pydantic!=1.8,!=1.8.1,<3.0.0,>=1.7.4->spacy==3.7.5->-r ../requirements.txt (line 4)) (2.20.1)\n",
      "Requirement already satisfied: typing-extensions>=4.6.1 in /Users/sebastiancb/anaconda3/envs/env-talentotech-project/lib/python3.10/site-packages (from pydantic!=1.8,!=1.8.1,<3.0.0,>=1.7.4->spacy==3.7.5->-r ../requirements.txt (line 4)) (4.12.2)\n",
      "Requirement already satisfied: six>=1.5 in /Users/sebastiancb/anaconda3/envs/env-talentotech-project/lib/python3.10/site-packages (from python-dateutil>=2.8.2->pandas==2.2.2->-r ../requirements.txt (line 1)) (1.16.0)\n",
      "Requirement already satisfied: charset-normalizer<4,>=2 in /Users/sebastiancb/anaconda3/envs/env-talentotech-project/lib/python3.10/site-packages (from requests<3.0.0,>=2.13.0->spacy==3.7.5->-r ../requirements.txt (line 4)) (3.3.2)\n",
      "Requirement already satisfied: idna<4,>=2.5 in /Users/sebastiancb/anaconda3/envs/env-talentotech-project/lib/python3.10/site-packages (from requests<3.0.0,>=2.13.0->spacy==3.7.5->-r ../requirements.txt (line 4)) (3.7)\n",
      "Requirement already satisfied: urllib3<3,>=1.21.1 in /Users/sebastiancb/anaconda3/envs/env-talentotech-project/lib/python3.10/site-packages (from requests<3.0.0,>=2.13.0->spacy==3.7.5->-r ../requirements.txt (line 4)) (2.2.2)\n",
      "Requirement already satisfied: certifi>=2017.4.17 in /Users/sebastiancb/anaconda3/envs/env-talentotech-project/lib/python3.10/site-packages (from requests<3.0.0,>=2.13.0->spacy==3.7.5->-r ../requirements.txt (line 4)) (2024.7.4)\n",
      "Requirement already satisfied: wrapt in /Users/sebastiancb/anaconda3/envs/env-talentotech-project/lib/python3.10/site-packages (from smart-open>=1.8.1->gensim==4.3.3->-r ../requirements.txt (line 6)) (1.16.0)\n",
      "Requirement already satisfied: blis<0.8.0,>=0.7.8 in /Users/sebastiancb/anaconda3/envs/env-talentotech-project/lib/python3.10/site-packages (from thinc<8.3.0,>=8.2.2->spacy==3.7.5->-r ../requirements.txt (line 4)) (0.7.11)\n",
      "Requirement already satisfied: confection<1.0.0,>=0.0.1 in /Users/sebastiancb/anaconda3/envs/env-talentotech-project/lib/python3.10/site-packages (from thinc<8.3.0,>=8.2.2->spacy==3.7.5->-r ../requirements.txt (line 4)) (0.1.5)\n",
      "Requirement already satisfied: shellingham>=1.3.0 in /Users/sebastiancb/anaconda3/envs/env-talentotech-project/lib/python3.10/site-packages (from typer<1.0.0,>=0.3.0->spacy==3.7.5->-r ../requirements.txt (line 4)) (1.5.4)\n",
      "Requirement already satisfied: rich>=10.11.0 in /Users/sebastiancb/anaconda3/envs/env-talentotech-project/lib/python3.10/site-packages (from typer<1.0.0,>=0.3.0->spacy==3.7.5->-r ../requirements.txt (line 4)) (13.7.1)\n",
      "Requirement already satisfied: cloudpathlib<1.0.0,>=0.7.0 in /Users/sebastiancb/anaconda3/envs/env-talentotech-project/lib/python3.10/site-packages (from weasel<0.5.0,>=0.1.0->spacy==3.7.5->-r ../requirements.txt (line 4)) (0.18.1)\n",
      "Requirement already satisfied: MarkupSafe>=2.0 in /Users/sebastiancb/anaconda3/envs/env-talentotech-project/lib/python3.10/site-packages (from jinja2->spacy==3.7.5->-r ../requirements.txt (line 4)) (2.1.5)\n",
      "Requirement already satisfied: marisa-trie>=0.7.7 in /Users/sebastiancb/anaconda3/envs/env-talentotech-project/lib/python3.10/site-packages (from language-data>=1.2->langcodes<4.0.0,>=3.2.0->spacy==3.7.5->-r ../requirements.txt (line 4)) (1.2.0)\n",
      "Requirement already satisfied: markdown-it-py>=2.2.0 in /Users/sebastiancb/anaconda3/envs/env-talentotech-project/lib/python3.10/site-packages (from rich>=10.11.0->typer<1.0.0,>=0.3.0->spacy==3.7.5->-r ../requirements.txt (line 4)) (3.0.0)\n",
      "Requirement already satisfied: pygments<3.0.0,>=2.13.0 in /Users/sebastiancb/anaconda3/envs/env-talentotech-project/lib/python3.10/site-packages (from rich>=10.11.0->typer<1.0.0,>=0.3.0->spacy==3.7.5->-r ../requirements.txt (line 4)) (2.18.0)\n",
      "Requirement already satisfied: mdurl~=0.1 in /Users/sebastiancb/anaconda3/envs/env-talentotech-project/lib/python3.10/site-packages (from markdown-it-py>=2.2.0->rich>=10.11.0->typer<1.0.0,>=0.3.0->spacy==3.7.5->-r ../requirements.txt (line 4)) (0.1.2)\n",
      "Note: you may need to restart the kernel to use updated packages.\n"
     ]
    }
   ],
   "source": [
    "# Instalación de librerías\n",
    "%pip install -r '../requirements.txt'"
   ]
  },
  {
   "cell_type": "code",
   "execution_count": 32,
   "metadata": {},
   "outputs": [],
   "source": [
    "# Importación de librerías\n",
    "import pandas as pd\n",
    "import json\n",
    "from gensim.models import Word2Vec"
   ]
  },
  {
   "cell_type": "code",
   "execution_count": 33,
   "metadata": {},
   "outputs": [],
   "source": [
    "# Importación de datos\n",
    "datos_entrenamiento = pd.read_csv('../3-NLP/dist/dataset-spanish-tweets-train-preprocessed.csv', delimiter=',', encoding='utf-8')\n",
    "datos_prueba = pd.read_csv('../3-NLP/dist/dataset-spanish-tweets-test-preprocessed.csv', delimiter=',', encoding='utf-8')\n",
    "datos_validacion = pd.read_csv('../3-NLP/dist/dataset-spanish-tweets-validation-preprocessed.csv', delimiter=',', encoding='utf-8')\n",
    "datos_entrenamiento['text'] = datos_entrenamiento['text'].apply(lambda x: json.loads(x))\n",
    "datos_prueba['text'] = datos_prueba['text'].apply(lambda x: json.loads(x))\n",
    "datos_validacion['text'] = datos_validacion['text'].apply(lambda x: json.loads(x))"
   ]
  },
  {
   "cell_type": "code",
   "execution_count": 34,
   "metadata": {},
   "outputs": [],
   "source": [
    "# Importación modelo\n",
    "modelo = Word2Vec.load('../4-word-embedding/dist/word2vec.model')\n",
    "unk_vector = modelo.wv.vectors.mean(axis=0)"
   ]
  },
  {
   "cell_type": "code",
   "execution_count": 35,
   "metadata": {},
   "outputs": [],
   "source": [
    "def convert_text_to_vector_number(texto):\n",
    "    arreglo_vectores_palabra = []\n",
    "    for palabra in texto:\n",
    "        if palabra in modelo.wv:\n",
    "         arreglo_vectores_palabra.append(modelo.wv[palabra])\n",
    "        else:\n",
    "            arreglo_vectores_palabra.append(unk_vector)\n",
    "    # Calcular el promedio de los vectores\n",
    "    arreglo_vectores_palabra = pd.DataFrame(arreglo_vectores_palabra).mean().values\n",
    "    return arreglo_vectores_palabra"
   ]
  },
  {
   "cell_type": "markdown",
   "metadata": {},
   "source": [
    "### Dataset entrenamiento"
   ]
  },
  {
   "cell_type": "code",
   "execution_count": 37,
   "metadata": {},
   "outputs": [],
   "source": [
    "datos_entrenamiento['text'] = datos_entrenamiento['text'].apply(convert_text_to_vector_number)\n",
    "expanded_columns = pd.DataFrame(datos_entrenamiento['text'].tolist())\n",
    "\n",
    "# Renombrar las columnas a dim_1, dim_2, ..., dim_200\n",
    "expanded_columns.columns = [\n",
    "    f'dim_{i+1}' for i in range(expanded_columns.shape[1])]\n",
    "\n",
    "# Concatenar las columnas expandidas con la columna 'sentiment'\n",
    "final_dataset_entrenamiento = pd.concat(\n",
    "    [expanded_columns, datos_entrenamiento['sentiment']], axis=1)\n",
    "# 0 -> negative, 1 -> neutral, 2 -> positive\n",
    "final_dataset_entrenamiento['sentiment'] = final_dataset_entrenamiento['sentiment'].map(\n",
    "    {'negative': 0, 'neutral': 1, 'positive': 2})\n",
    "final_dataset_entrenamiento.to_csv('./dist/dataset-train.csv', index=False)"
   ]
  },
  {
   "cell_type": "markdown",
   "metadata": {},
   "source": [
    "### Dataset prueba"
   ]
  },
  {
   "cell_type": "code",
   "execution_count": 38,
   "metadata": {},
   "outputs": [],
   "source": [
    "datos_prueba['text'] = datos_prueba['text'].apply(\n",
    "    convert_text_to_vector_number)\n",
    "expanded_columns = pd.DataFrame(datos_prueba['text'].tolist())\n",
    "\n",
    "# Renombrar las columnas a dim_1, dim_2, ..., dim_200\n",
    "expanded_columns.columns = [\n",
    "    f'dim_{i+1}' for i in range(expanded_columns.shape[1])]\n",
    "\n",
    "# Concatenar las columnas expandidas con la columna 'sentiment'\n",
    "final_dataset_prueba = pd.concat(\n",
    "    [expanded_columns, datos_prueba['sentiment']], axis=1)\n",
    "# 0 -> negative, 1 -> neutral, 2 -> positive\n",
    "final_dataset_prueba['sentiment'] = final_dataset_prueba['sentiment'].map(\n",
    "    {'negative': 0, 'neutral': 1, 'positive': 2})\n",
    "final_dataset_prueba.to_csv('./dist/dataset-test.csv', index=False)"
   ]
  },
  {
   "cell_type": "markdown",
   "metadata": {},
   "source": [
    "### Dataset validación"
   ]
  },
  {
   "cell_type": "code",
   "execution_count": 39,
   "metadata": {},
   "outputs": [],
   "source": [
    "datos_validacion['text'] = datos_validacion['text'].apply(\n",
    "    convert_text_to_vector_number)\n",
    "expanded_columns = pd.DataFrame(datos_validacion['text'].tolist())\n",
    "\n",
    "# Renombrar las columnas a dim_1, dim_2, ..., dim_200\n",
    "expanded_columns.columns = [\n",
    "    f'dim_{i+1}' for i in range(expanded_columns.shape[1])]\n",
    "\n",
    "# Concatenar las columnas expandidas con la columna 'sentiment'\n",
    "final_dataset_validacion = pd.concat(\n",
    "    [expanded_columns, datos_validacion['sentiment']], axis=1)\n",
    "# 0 -> negative, 1 -> neutral, 2 -> positive\n",
    "final_dataset_validacion['sentiment'] = final_dataset_validacion['sentiment'].map(\n",
    "    {'negative': 0, 'neutral': 1, 'positive': 2})\n",
    "final_dataset_validacion.to_csv('./dist/dataset-validation.csv', index=False)"
   ]
  }
 ],
 "metadata": {
  "kernelspec": {
   "display_name": "env-talentotech-project",
   "language": "python",
   "name": "python3"
  },
  "language_info": {
   "codemirror_mode": {
    "name": "ipython",
    "version": 3
   },
   "file_extension": ".py",
   "mimetype": "text/x-python",
   "name": "python",
   "nbconvert_exporter": "python",
   "pygments_lexer": "ipython3",
   "version": "3.10.14"
  }
 },
 "nbformat": 4,
 "nbformat_minor": 2
}
