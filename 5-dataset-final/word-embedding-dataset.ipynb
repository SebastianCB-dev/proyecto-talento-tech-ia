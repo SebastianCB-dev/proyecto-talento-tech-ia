{
 "cells": [
  {
   "cell_type": "markdown",
   "metadata": {},
   "source": [
    "## Word Embedding dataset\n",
    "\n",
    "En este notebook se va a convertir los tokens de los textos en un vector promedio de los embeddings de las palabras. Para ello se va a utilizar el modelo de embeddings de palabras preentrenadas en el notebook del paso anterior.\n",
    "\n",
    "Al final tendremos el dataset con 201 columnas -> 200 columnas de embeddings y 1 columna de la variable objetivo."
   ]
  },
  {
   "cell_type": "code",
   "execution_count": null,
   "metadata": {},
   "outputs": [],
   "source": [
    "# Instalación de librerías\n",
    "%pip install -r '../requirements.txt'"
   ]
  },
  {
   "cell_type": "code",
   "execution_count": null,
   "metadata": {},
   "outputs": [],
   "source": [
    "# Importación de librerías\n",
    "import pandas as pd\n",
    "import json\n",
    "from gensim.models import Word2Vec\n",
    "import numpy as np"
   ]
  },
  {
   "cell_type": "code",
   "execution_count": null,
   "metadata": {},
   "outputs": [],
   "source": [
    "# Importación de datos\n",
    "datos_entrenamiento = pd.read_csv('../3-NLP/dist/dataset-spanish-tweets-train-preprocessed.csv', delimiter=',', encoding='utf-8')\n",
    "datos_prueba = pd.read_csv('../3-NLP/dist/dataset-spanish-tweets-test-preprocessed.csv', delimiter=',', encoding='utf-8')\n",
    "datos_validacion = pd.read_csv('../3-NLP/dist/dataset-spanish-tweets-validation-preprocessed.csv', delimiter=',', encoding='utf-8')\n",
    "datos_entrenamiento['text'] = datos_entrenamiento['text'].apply(lambda x: json.loads(x))\n",
    "datos_prueba['text'] = datos_prueba['text'].apply(lambda x: json.loads(x))\n",
    "datos_validacion['text'] = datos_validacion['text'].apply(lambda x: json.loads(x))"
   ]
  },
  {
   "cell_type": "code",
   "execution_count": null,
   "metadata": {},
   "outputs": [],
   "source": [
    "# Importación modelo\n",
    "modelo = Word2Vec.load('../4-word-embedding/dist/word2vec.model')\n",
    "unk_vector = modelo.wv.vectors.mean(axis=0)"
   ]
  },
  {
   "cell_type": "code",
   "execution_count": null,
   "metadata": {},
   "outputs": [],
   "source": [
    "def convert_text_to_vector_number(texto):\n",
    "    arreglo_vectores_palabra = []\n",
    "    for palabra in texto:\n",
    "        if palabra in modelo.wv:\n",
    "            arreglo_vectores_palabra.append(modelo.wv[palabra])\n",
    "        else:\n",
    "            arreglo_vectores_palabra.append(unk_vector)\n",
    "    # Calcular el promedio de los vectores\n",
    "    arreglo_vectores_palabra = np.mean(arreglo_vectores_palabra, axis=0)\n",
    "    return arreglo_vectores_palabra"
   ]
  },
  {
   "cell_type": "markdown",
   "metadata": {},
   "source": [
    "### Dataset entrenamiento"
   ]
  },
  {
   "cell_type": "code",
   "execution_count": null,
   "metadata": {},
   "outputs": [],
   "source": [
    "# Aplicar la función de conversión a cada texto en el dataset\n",
    "datos_entrenamiento['text'] = datos_entrenamiento['text'].apply(\n",
    "    convert_text_to_vector_number)\n",
    "\n",
    "# Expandir la lista de vectores en columnas separadas\n",
    "expanded_columns = pd.DataFrame(datos_entrenamiento['text'].tolist())\n",
    "\n",
    "# Renombrar las columnas a dim_1, dim_2, ..., dim_200\n",
    "expanded_columns.columns = [\n",
    "    f'dim_{i+1}' for i in range(expanded_columns.shape[1])]\n",
    "\n",
    "# Concatenar las columnas expandidas con la columna 'sentiment'\n",
    "final_dataset_entrenamiento = pd.concat(\n",
    "    [expanded_columns, datos_entrenamiento['sentiment']], axis=1)\n",
    "\n",
    "# Mapear los valores de 'sentiment' a números\n",
    "# 0 -> negative, 1 -> positive\n",
    "final_dataset_entrenamiento['sentiment'] = final_dataset_entrenamiento['sentiment'].map(\n",
    "    {'negative': 0, 'positive': 1})\n",
    "\n",
    "# Guardar el dataset final en un archivo CSV\n",
    "final_dataset_entrenamiento.to_csv('./dist/dataset-train.csv', index=False)"
   ]
  },
  {
   "cell_type": "markdown",
   "metadata": {},
   "source": [
    "### Dataset prueba"
   ]
  },
  {
   "cell_type": "code",
   "execution_count": null,
   "metadata": {},
   "outputs": [],
   "source": [
    "datos_prueba['text'] = datos_prueba['text'].apply(\n",
    "    convert_text_to_vector_number)\n",
    "expanded_columns = pd.DataFrame(datos_prueba['text'].tolist())\n",
    "\n",
    "# Renombrar las columnas a dim_1, dim_2, ..., dim_200\n",
    "expanded_columns.columns = [\n",
    "    f'dim_{i+1}' for i in range(expanded_columns.shape[1])]\n",
    "\n",
    "# Concatenar las columnas expandidas con la columna 'sentiment'\n",
    "final_dataset_prueba = pd.concat(\n",
    "    [expanded_columns, datos_prueba['sentiment']], axis=1)\n",
    "# 0 -> negative, 1 -> positive\n",
    "final_dataset_prueba['sentiment'] = final_dataset_prueba['sentiment'].map(\n",
    "    {'negative': 0, 'positive': 1, })\n",
    "final_dataset_prueba.to_csv('./dist/dataset-test.csv', index=False)"
   ]
  },
  {
   "cell_type": "markdown",
   "metadata": {},
   "source": [
    "### Dataset validación"
   ]
  },
  {
   "cell_type": "code",
   "execution_count": null,
   "metadata": {},
   "outputs": [],
   "source": [
    "datos_validacion['text'] = datos_validacion['text'].apply(\n",
    "    convert_text_to_vector_number)\n",
    "expanded_columns = pd.DataFrame(datos_validacion['text'].tolist())\n",
    "\n",
    "# Renombrar las columnas a dim_1, dim_2, ..., dim_200\n",
    "expanded_columns.columns = [\n",
    "    f'dim_{i+1}' for i in range(expanded_columns.shape[1])]\n",
    "\n",
    "# Concatenar las columnas expandidas con la columna 'sentiment'\n",
    "final_dataset_validacion = pd.concat(\n",
    "    [expanded_columns, datos_validacion['sentiment']], axis=1)\n",
    "# 0 -> negative, 1 -> positive\n",
    "final_dataset_validacion['sentiment'] = final_dataset_validacion['sentiment'].map(\n",
    "    {'negative': 0, 'positive': 1})\n",
    "final_dataset_validacion.to_csv('./dist/dataset-validation.csv', index=False)"
   ]
  }
 ],
 "metadata": {
  "kernelspec": {
   "display_name": "env-talentotech-project",
   "language": "python",
   "name": "python3"
  },
  "language_info": {
   "codemirror_mode": {
    "name": "ipython",
    "version": 3
   },
   "file_extension": ".py",
   "mimetype": "text/x-python",
   "name": "python",
   "nbconvert_exporter": "python",
   "pygments_lexer": "ipython3",
   "version": "3.10.14"
  }
 },
 "nbformat": 4,
 "nbformat_minor": 2
}
