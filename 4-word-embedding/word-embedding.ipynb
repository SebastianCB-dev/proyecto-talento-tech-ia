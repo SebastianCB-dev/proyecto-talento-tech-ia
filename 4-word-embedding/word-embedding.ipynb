{
 "cells": [
  {
   "cell_type": "markdown",
   "metadata": {},
   "source": [
    "## Word Embedding\n",
    "\n",
    "En este notebook se creará un modelo de Word Embedding utilizando la librería Gensim. Se utilizará el dataset de entrenamiento de la competencia para entrenar el modelo. Luego, se utilizará el modelo para obtener los embeddings de las palabras de los textos de los tweets y se guardarán en un archivo para utilizarlos en los modelos de clasificación.\n",
    "\n",
    "<div style=\"text-align: center\">\n",
    "    <img src=\"https://miro.medium.com/v2/resize:fit:678/1*5F4TXdFYwqi-BWTToQPIfg.jpeg\" width=\"500\">\n",
    "</div>"
   ]
  },
  {
   "cell_type": "code",
   "execution_count": 9,
   "metadata": {},
   "outputs": [
    {
     "name": "stdout",
     "output_type": "stream",
     "text": [
      "Requirement already satisfied: pandas==2.2.2 in /Users/sebastiancb/anaconda3/envs/env-talentotech-project/lib/python3.10/site-packages (from -r ../requirements.txt (line 1)) (2.2.2)\n",
      "Requirement already satisfied: scikit-learn==1.5.1 in /Users/sebastiancb/anaconda3/envs/env-talentotech-project/lib/python3.10/site-packages (from -r ../requirements.txt (line 2)) (1.5.1)\n",
      "Requirement already satisfied: nltk==3.9 in /Users/sebastiancb/anaconda3/envs/env-talentotech-project/lib/python3.10/site-packages (from -r ../requirements.txt (line 3)) (3.9)\n",
      "Requirement already satisfied: spacy==3.7.5 in /Users/sebastiancb/anaconda3/envs/env-talentotech-project/lib/python3.10/site-packages (from -r ../requirements.txt (line 4)) (3.7.5)\n",
      "Requirement already satisfied: numpy==1.26.4 in /Users/sebastiancb/anaconda3/envs/env-talentotech-project/lib/python3.10/site-packages (from -r ../requirements.txt (line 5)) (1.26.4)\n",
      "Requirement already satisfied: gensim==4.3.3 in /Users/sebastiancb/anaconda3/envs/env-talentotech-project/lib/python3.10/site-packages (from -r ../requirements.txt (line 6)) (4.3.3)\n",
      "Requirement already satisfied: python-dateutil>=2.8.2 in /Users/sebastiancb/anaconda3/envs/env-talentotech-project/lib/python3.10/site-packages (from pandas==2.2.2->-r ../requirements.txt (line 1)) (2.9.0)\n",
      "Requirement already satisfied: pytz>=2020.1 in /Users/sebastiancb/anaconda3/envs/env-talentotech-project/lib/python3.10/site-packages (from pandas==2.2.2->-r ../requirements.txt (line 1)) (2024.1)\n",
      "Requirement already satisfied: tzdata>=2022.7 in /Users/sebastiancb/anaconda3/envs/env-talentotech-project/lib/python3.10/site-packages (from pandas==2.2.2->-r ../requirements.txt (line 1)) (2024.1)\n",
      "Requirement already satisfied: scipy>=1.6.0 in /Users/sebastiancb/anaconda3/envs/env-talentotech-project/lib/python3.10/site-packages (from scikit-learn==1.5.1->-r ../requirements.txt (line 2)) (1.13.1)\n",
      "Requirement already satisfied: joblib>=1.2.0 in /Users/sebastiancb/anaconda3/envs/env-talentotech-project/lib/python3.10/site-packages (from scikit-learn==1.5.1->-r ../requirements.txt (line 2)) (1.4.2)\n",
      "Requirement already satisfied: threadpoolctl>=3.1.0 in /Users/sebastiancb/anaconda3/envs/env-talentotech-project/lib/python3.10/site-packages (from scikit-learn==1.5.1->-r ../requirements.txt (line 2)) (3.5.0)\n",
      "Requirement already satisfied: click in /Users/sebastiancb/anaconda3/envs/env-talentotech-project/lib/python3.10/site-packages (from nltk==3.9->-r ../requirements.txt (line 3)) (8.1.7)\n",
      "Requirement already satisfied: regex>=2021.8.3 in /Users/sebastiancb/anaconda3/envs/env-talentotech-project/lib/python3.10/site-packages (from nltk==3.9->-r ../requirements.txt (line 3)) (2024.7.24)\n",
      "Requirement already satisfied: tqdm in /Users/sebastiancb/anaconda3/envs/env-talentotech-project/lib/python3.10/site-packages (from nltk==3.9->-r ../requirements.txt (line 3)) (4.66.5)\n",
      "Requirement already satisfied: spacy-legacy<3.1.0,>=3.0.11 in /Users/sebastiancb/anaconda3/envs/env-talentotech-project/lib/python3.10/site-packages (from spacy==3.7.5->-r ../requirements.txt (line 4)) (3.0.12)\n",
      "Requirement already satisfied: spacy-loggers<2.0.0,>=1.0.0 in /Users/sebastiancb/anaconda3/envs/env-talentotech-project/lib/python3.10/site-packages (from spacy==3.7.5->-r ../requirements.txt (line 4)) (1.0.5)\n",
      "Requirement already satisfied: murmurhash<1.1.0,>=0.28.0 in /Users/sebastiancb/anaconda3/envs/env-talentotech-project/lib/python3.10/site-packages (from spacy==3.7.5->-r ../requirements.txt (line 4)) (1.0.10)\n",
      "Requirement already satisfied: cymem<2.1.0,>=2.0.2 in /Users/sebastiancb/anaconda3/envs/env-talentotech-project/lib/python3.10/site-packages (from spacy==3.7.5->-r ../requirements.txt (line 4)) (2.0.8)\n",
      "Requirement already satisfied: preshed<3.1.0,>=3.0.2 in /Users/sebastiancb/anaconda3/envs/env-talentotech-project/lib/python3.10/site-packages (from spacy==3.7.5->-r ../requirements.txt (line 4)) (3.0.9)\n",
      "Requirement already satisfied: thinc<8.3.0,>=8.2.2 in /Users/sebastiancb/anaconda3/envs/env-talentotech-project/lib/python3.10/site-packages (from spacy==3.7.5->-r ../requirements.txt (line 4)) (8.2.4)\n",
      "Requirement already satisfied: wasabi<1.2.0,>=0.9.1 in /Users/sebastiancb/anaconda3/envs/env-talentotech-project/lib/python3.10/site-packages (from spacy==3.7.5->-r ../requirements.txt (line 4)) (1.1.3)\n",
      "Requirement already satisfied: srsly<3.0.0,>=2.4.3 in /Users/sebastiancb/anaconda3/envs/env-talentotech-project/lib/python3.10/site-packages (from spacy==3.7.5->-r ../requirements.txt (line 4)) (2.4.8)\n",
      "Requirement already satisfied: catalogue<2.1.0,>=2.0.6 in /Users/sebastiancb/anaconda3/envs/env-talentotech-project/lib/python3.10/site-packages (from spacy==3.7.5->-r ../requirements.txt (line 4)) (2.0.10)\n",
      "Requirement already satisfied: weasel<0.5.0,>=0.1.0 in /Users/sebastiancb/anaconda3/envs/env-talentotech-project/lib/python3.10/site-packages (from spacy==3.7.5->-r ../requirements.txt (line 4)) (0.4.1)\n",
      "Requirement already satisfied: typer<1.0.0,>=0.3.0 in /Users/sebastiancb/anaconda3/envs/env-talentotech-project/lib/python3.10/site-packages (from spacy==3.7.5->-r ../requirements.txt (line 4)) (0.12.3)\n",
      "Requirement already satisfied: requests<3.0.0,>=2.13.0 in /Users/sebastiancb/anaconda3/envs/env-talentotech-project/lib/python3.10/site-packages (from spacy==3.7.5->-r ../requirements.txt (line 4)) (2.32.3)\n",
      "Requirement already satisfied: pydantic!=1.8,!=1.8.1,<3.0.0,>=1.7.4 in /Users/sebastiancb/anaconda3/envs/env-talentotech-project/lib/python3.10/site-packages (from spacy==3.7.5->-r ../requirements.txt (line 4)) (2.8.2)\n",
      "Requirement already satisfied: jinja2 in /Users/sebastiancb/anaconda3/envs/env-talentotech-project/lib/python3.10/site-packages (from spacy==3.7.5->-r ../requirements.txt (line 4)) (3.1.4)\n",
      "Requirement already satisfied: setuptools in /Users/sebastiancb/anaconda3/envs/env-talentotech-project/lib/python3.10/site-packages (from spacy==3.7.5->-r ../requirements.txt (line 4)) (72.1.0)\n",
      "Requirement already satisfied: packaging>=20.0 in /Users/sebastiancb/anaconda3/envs/env-talentotech-project/lib/python3.10/site-packages (from spacy==3.7.5->-r ../requirements.txt (line 4)) (24.1)\n",
      "Requirement already satisfied: langcodes<4.0.0,>=3.2.0 in /Users/sebastiancb/anaconda3/envs/env-talentotech-project/lib/python3.10/site-packages (from spacy==3.7.5->-r ../requirements.txt (line 4)) (3.4.0)\n",
      "Requirement already satisfied: smart-open>=1.8.1 in /Users/sebastiancb/anaconda3/envs/env-talentotech-project/lib/python3.10/site-packages (from gensim==4.3.3->-r ../requirements.txt (line 6)) (7.0.4)\n",
      "Requirement already satisfied: language-data>=1.2 in /Users/sebastiancb/anaconda3/envs/env-talentotech-project/lib/python3.10/site-packages (from langcodes<4.0.0,>=3.2.0->spacy==3.7.5->-r ../requirements.txt (line 4)) (1.2.0)\n",
      "Requirement already satisfied: annotated-types>=0.4.0 in /Users/sebastiancb/anaconda3/envs/env-talentotech-project/lib/python3.10/site-packages (from pydantic!=1.8,!=1.8.1,<3.0.0,>=1.7.4->spacy==3.7.5->-r ../requirements.txt (line 4)) (0.7.0)\n",
      "Requirement already satisfied: pydantic-core==2.20.1 in /Users/sebastiancb/anaconda3/envs/env-talentotech-project/lib/python3.10/site-packages (from pydantic!=1.8,!=1.8.1,<3.0.0,>=1.7.4->spacy==3.7.5->-r ../requirements.txt (line 4)) (2.20.1)\n",
      "Requirement already satisfied: typing-extensions>=4.6.1 in /Users/sebastiancb/anaconda3/envs/env-talentotech-project/lib/python3.10/site-packages (from pydantic!=1.8,!=1.8.1,<3.0.0,>=1.7.4->spacy==3.7.5->-r ../requirements.txt (line 4)) (4.12.2)\n",
      "Requirement already satisfied: six>=1.5 in /Users/sebastiancb/anaconda3/envs/env-talentotech-project/lib/python3.10/site-packages (from python-dateutil>=2.8.2->pandas==2.2.2->-r ../requirements.txt (line 1)) (1.16.0)\n",
      "Requirement already satisfied: charset-normalizer<4,>=2 in /Users/sebastiancb/anaconda3/envs/env-talentotech-project/lib/python3.10/site-packages (from requests<3.0.0,>=2.13.0->spacy==3.7.5->-r ../requirements.txt (line 4)) (3.3.2)\n",
      "Requirement already satisfied: idna<4,>=2.5 in /Users/sebastiancb/anaconda3/envs/env-talentotech-project/lib/python3.10/site-packages (from requests<3.0.0,>=2.13.0->spacy==3.7.5->-r ../requirements.txt (line 4)) (3.7)\n",
      "Requirement already satisfied: urllib3<3,>=1.21.1 in /Users/sebastiancb/anaconda3/envs/env-talentotech-project/lib/python3.10/site-packages (from requests<3.0.0,>=2.13.0->spacy==3.7.5->-r ../requirements.txt (line 4)) (2.2.2)\n",
      "Requirement already satisfied: certifi>=2017.4.17 in /Users/sebastiancb/anaconda3/envs/env-talentotech-project/lib/python3.10/site-packages (from requests<3.0.0,>=2.13.0->spacy==3.7.5->-r ../requirements.txt (line 4)) (2024.7.4)\n",
      "Requirement already satisfied: wrapt in /Users/sebastiancb/anaconda3/envs/env-talentotech-project/lib/python3.10/site-packages (from smart-open>=1.8.1->gensim==4.3.3->-r ../requirements.txt (line 6)) (1.16.0)\n",
      "Requirement already satisfied: blis<0.8.0,>=0.7.8 in /Users/sebastiancb/anaconda3/envs/env-talentotech-project/lib/python3.10/site-packages (from thinc<8.3.0,>=8.2.2->spacy==3.7.5->-r ../requirements.txt (line 4)) (0.7.11)\n",
      "Requirement already satisfied: confection<1.0.0,>=0.0.1 in /Users/sebastiancb/anaconda3/envs/env-talentotech-project/lib/python3.10/site-packages (from thinc<8.3.0,>=8.2.2->spacy==3.7.5->-r ../requirements.txt (line 4)) (0.1.5)\n",
      "Requirement already satisfied: shellingham>=1.3.0 in /Users/sebastiancb/anaconda3/envs/env-talentotech-project/lib/python3.10/site-packages (from typer<1.0.0,>=0.3.0->spacy==3.7.5->-r ../requirements.txt (line 4)) (1.5.4)\n",
      "Requirement already satisfied: rich>=10.11.0 in /Users/sebastiancb/anaconda3/envs/env-talentotech-project/lib/python3.10/site-packages (from typer<1.0.0,>=0.3.0->spacy==3.7.5->-r ../requirements.txt (line 4)) (13.7.1)\n",
      "Requirement already satisfied: cloudpathlib<1.0.0,>=0.7.0 in /Users/sebastiancb/anaconda3/envs/env-talentotech-project/lib/python3.10/site-packages (from weasel<0.5.0,>=0.1.0->spacy==3.7.5->-r ../requirements.txt (line 4)) (0.18.1)\n",
      "Requirement already satisfied: MarkupSafe>=2.0 in /Users/sebastiancb/anaconda3/envs/env-talentotech-project/lib/python3.10/site-packages (from jinja2->spacy==3.7.5->-r ../requirements.txt (line 4)) (2.1.5)\n",
      "Requirement already satisfied: marisa-trie>=0.7.7 in /Users/sebastiancb/anaconda3/envs/env-talentotech-project/lib/python3.10/site-packages (from language-data>=1.2->langcodes<4.0.0,>=3.2.0->spacy==3.7.5->-r ../requirements.txt (line 4)) (1.2.0)\n",
      "Requirement already satisfied: markdown-it-py>=2.2.0 in /Users/sebastiancb/anaconda3/envs/env-talentotech-project/lib/python3.10/site-packages (from rich>=10.11.0->typer<1.0.0,>=0.3.0->spacy==3.7.5->-r ../requirements.txt (line 4)) (3.0.0)\n",
      "Requirement already satisfied: pygments<3.0.0,>=2.13.0 in /Users/sebastiancb/anaconda3/envs/env-talentotech-project/lib/python3.10/site-packages (from rich>=10.11.0->typer<1.0.0,>=0.3.0->spacy==3.7.5->-r ../requirements.txt (line 4)) (2.18.0)\n",
      "Requirement already satisfied: mdurl~=0.1 in /Users/sebastiancb/anaconda3/envs/env-talentotech-project/lib/python3.10/site-packages (from markdown-it-py>=2.2.0->rich>=10.11.0->typer<1.0.0,>=0.3.0->spacy==3.7.5->-r ../requirements.txt (line 4)) (0.1.2)\n",
      "Note: you may need to restart the kernel to use updated packages.\n"
     ]
    }
   ],
   "source": [
    "# Instalación de librerías\n",
    "%pip install -r '../requirements.txt'"
   ]
  },
  {
   "cell_type": "code",
   "execution_count": 10,
   "metadata": {},
   "outputs": [],
   "source": [
    "# Importación de librerías\n",
    "import pandas as pd\n",
    "import json\n",
    "from gensim.models import Word2Vec"
   ]
  },
  {
   "cell_type": "code",
   "execution_count": 11,
   "metadata": {},
   "outputs": [
    {
     "data": {
      "text/html": [
       "<div>\n",
       "<style scoped>\n",
       "    .dataframe tbody tr th:only-of-type {\n",
       "        vertical-align: middle;\n",
       "    }\n",
       "\n",
       "    .dataframe tbody tr th {\n",
       "        vertical-align: top;\n",
       "    }\n",
       "\n",
       "    .dataframe thead th {\n",
       "        text-align: right;\n",
       "    }\n",
       "</style>\n",
       "<table border=\"1\" class=\"dataframe\">\n",
       "  <thead>\n",
       "    <tr style=\"text-align: right;\">\n",
       "      <th></th>\n",
       "      <th>text</th>\n",
       "      <th>sentiment</th>\n",
       "    </tr>\n",
       "  </thead>\n",
       "  <tbody>\n",
       "    <tr>\n",
       "      <th>0</th>\n",
       "      <td>[engaar, ir, siquiera, poder, tener, juego, de...</td>\n",
       "      <td>neutral</td>\n",
       "    </tr>\n",
       "    <tr>\n",
       "      <th>1</th>\n",
       "      <td>[coolest]</td>\n",
       "      <td>positive</td>\n",
       "    </tr>\n",
       "    <tr>\n",
       "      <th>2</th>\n",
       "      <td>[chale, ver, definir, ser]</td>\n",
       "      <td>neutral</td>\n",
       "    </tr>\n",
       "    <tr>\n",
       "      <th>3</th>\n",
       "      <td>[impresionante]</td>\n",
       "      <td>positive</td>\n",
       "    </tr>\n",
       "    <tr>\n",
       "      <th>4</th>\n",
       "      <td>[pastel, chocolate, delicioso, desear, incluso...</td>\n",
       "      <td>positive</td>\n",
       "    </tr>\n",
       "  </tbody>\n",
       "</table>\n",
       "</div>"
      ],
      "text/plain": [
       "                                                text sentiment\n",
       "0  [engaar, ir, siquiera, poder, tener, juego, de...   neutral\n",
       "1                                          [coolest]  positive\n",
       "2                         [chale, ver, definir, ser]   neutral\n",
       "3                                    [impresionante]  positive\n",
       "4  [pastel, chocolate, delicioso, desear, incluso...  positive"
      ]
     },
     "execution_count": 11,
     "metadata": {},
     "output_type": "execute_result"
    }
   ],
   "source": [
    "# Carga de datos de entrenamiento\n",
    "# Se utilizará el dataset de entrenamiento para entrenar el modelo\n",
    "dataset_entrenamiento = pd.read_csv('../3-NLP/dist/dataset-spanish-tweets-train-preprocessed.csv', sep=',', encoding='utf-8')\n",
    "dataset_entrenamiento['text'] = dataset_entrenamiento['text'].apply(lambda x: json.loads(x))\n",
    "dataset_entrenamiento.head()"
   ]
  },
  {
   "cell_type": "code",
   "execution_count": 12,
   "metadata": {},
   "outputs": [],
   "source": [
    "# Eliminar arreglos con longitud 0\n",
    "dataset_entrenamiento = dataset_entrenamiento[dataset_entrenamiento['text'].apply(lambda x: len(x) > 0)]"
   ]
  },
  {
   "cell_type": "code",
   "execution_count": 13,
   "metadata": {},
   "outputs": [
    {
     "name": "stdout",
     "output_type": "stream",
     "text": [
      "<class 'pandas.core.frame.DataFrame'>\n",
      "Index: 23890 entries, 0 to 23999\n",
      "Data columns (total 2 columns):\n",
      " #   Column     Non-Null Count  Dtype \n",
      "---  ------     --------------  ----- \n",
      " 0   text       23890 non-null  object\n",
      " 1   sentiment  23890 non-null  object\n",
      "dtypes: object(2)\n",
      "memory usage: 559.9+ KB\n"
     ]
    }
   ],
   "source": [
    "dataset_entrenamiento.info()"
   ]
  },
  {
   "cell_type": "markdown",
   "metadata": {},
   "source": [
    "### Definición del Word Embedding\n",
    "\n",
    "El Word Embedding es una técnica de procesamiento de lenguaje natural que consiste en asignar una representación vectorial a cada palabra de un vocabulario. Esta representación vectorial se obtiene a partir de un modelo de lenguaje entrenado con un corpus de texto. Los vectores obtenidos tienen la propiedad de que palabras similares en el contexto de los textos tienen vectores similares.\n",
    "\n",
    "La idea es vectorizar cada una de las palabras en un vector de 150 dimensiones, luego hacer un promedio de los vectores de todas las palabras de un tweet para obtener un vector de 150 dimensiones que represente al tweet.\n",
    "\n",
    "Cada dimensión del vector representa una característica de la palabra, por lo que palabras similares tendrán vectores similares.\n",
    "\n",
    "Nuestro conjunto de datos al final será una matriz de 150 columnas, donde cada fila representa un tweet. Y por supuesto otra columna con la etiqueta del tweet."
   ]
  },
  {
   "cell_type": "markdown",
   "metadata": {},
   "source": [
    "### Hiperparámetros\n",
    "\n",
    "1. sentences: lista de listas de palabras. Cada lista de palabras representa un tweet.\n",
    "2. vector_size: tamaño del vector de embeddings. Aquí se define el número de dimensiones del vector de embeddings. Cuanto mayor sea el número, más información se podrá capturar, pero también será más costoso computacionalmente.\n",
    "3. window: tamaño de la ventana de contexto. Es el número de palabras que se consideran a la izquierda y a la derecha de la palabra objetivo.\n",
    "4. min_count: número mínimo de veces que una palabra debe aparecer en el corpus para ser considerada en el modelo.\n",
    "5. workers: número de núcleos de la CPU a utilizar para entrenar el modelo.\n",
    "6. sg: algoritmo de entrenamiento. 1 para Skip-gram, 0 para CBOW.\n",
    "7. epochs: número de iteraciones sobre el corpus.\n",
    "8. seed: semilla"
   ]
  },
  {
   "cell_type": "code",
   "execution_count": 14,
   "metadata": {},
   "outputs": [],
   "source": [
    "sentences = dataset_entrenamiento['text'].tolist()\n",
    "vector_size = 200\n",
    "window = 7\n",
    "min_count = 1\n",
    "workers = 4\n",
    "sg = 1 # Skip Gram tiene mejor rendimiento frente a CBOW\n",
    "epochs = 30\n",
    "seed = 42 # Para reproducibilidad\n",
    "model = Word2Vec(sentences=sentences,\n",
    "                 vector_size=vector_size,\n",
    "                 window=window,\n",
    "                 min_count=min_count,\n",
    "                 workers=workers,\n",
    "                 sg=sg,\n",
    "                 epochs=epochs,\n",
    "                 seed=seed)"
   ]
  },
  {
   "cell_type": "code",
   "execution_count": 15,
   "metadata": {},
   "outputs": [],
   "source": [
    "# Una vez entrenado el modelo, se guarda en disco\n",
    "model.save('./dist/word2vec.model')"
   ]
  }
 ],
 "metadata": {
  "kernelspec": {
   "display_name": "env-talentotech-project",
   "language": "python",
   "name": "python3"
  },
  "language_info": {
   "codemirror_mode": {
    "name": "ipython",
    "version": 3
   },
   "file_extension": ".py",
   "mimetype": "text/x-python",
   "name": "python",
   "nbconvert_exporter": "python",
   "pygments_lexer": "ipython3",
   "version": "3.10.14"
  }
 },
 "nbformat": 4,
 "nbformat_minor": 2
}
