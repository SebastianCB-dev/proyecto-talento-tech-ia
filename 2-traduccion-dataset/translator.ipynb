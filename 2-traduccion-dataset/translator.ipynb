{
  "cells": [
    {
      "cell_type": "code",
      "execution_count": null,
      "metadata": {
        "colab": {
          "base_uri": "https://localhost:8080/"
        },
        "id": "m1CkFJXaIQY6",
        "outputId": "9ce6126b-08ea-40ed-fa83-55894433f9de"
      },
      "outputs": [],
      "source": [
        "# Instalación de librerías\n",
        "!pip install EasyNMT==2.0.2\n",
        "!pip install sacremoses==0.1.1"
      ]
    },
    {
      "cell_type": "code",
      "execution_count": null,
      "metadata": {
        "id": "0Q5sc9vWIait"
      },
      "outputs": [],
      "source": [
        "# Importación de librerías\n",
        "from easynmt import EasyNMT"
      ]
    },
    {
      "cell_type": "code",
      "execution_count": null,
      "metadata": {
        "id": "F4QoaxmB_QAh"
      },
      "outputs": [],
      "source": [
        "# Inicializar el modelo\n",
        "model = EasyNMT('opus-mt')\n",
        "\n",
        "# Definición de función translate\n",
        "def translate(text: str) -> str:\n",
        "    return model.translate(text, target_lang='es', source_lang='en')"
      ]
    },
    {
      "cell_type": "code",
      "execution_count": null,
      "metadata": {
        "id": "Qkb70M1IJK_Y"
      },
      "outputs": [],
      "source": [
        "# Lectura del dataset\n",
        "import pandas as pd\n",
        "df = pd.read_csv('/content/dataset-spanish-tweets-test.csv', delimiter=',', encoding='utf-8')"
      ]
    },
    {
      "cell_type": "code",
      "execution_count": null,
      "metadata": {
        "colab": {
          "base_uri": "https://localhost:8080/",
          "height": 175
        },
        "id": "28EbEOLJz8gS",
        "outputId": "36896b3a-1c68-45e0-fa57-ec5856b4e085"
      },
      "outputs": [],
      "source": [
        "df.describe()"
      ]
    },
    {
      "cell_type": "code",
      "execution_count": null,
      "metadata": {
        "colab": {
          "base_uri": "https://localhost:8080/"
        },
        "id": "IQjQDi7aJWVr",
        "outputId": "d6966b8a-76fe-446d-fc4e-8c3e7ac8eb21"
      },
      "outputs": [],
      "source": [
        "# Traducción de la columna text\n",
        "texts = df['text'].tolist()\n",
        "translated_texts = []\n",
        "for index, text in enumerate(texts):  # Use enumerate to get index and text\n",
        "  translated_texts.append(translate(text))\n",
        "  print(f\"text No. {index} translated\")\n",
        "print(\"All the texts were translated\")"
      ]
    },
    {
      "cell_type": "code",
      "execution_count": null,
      "metadata": {
        "id": "1uFIAa6mJdWM"
      },
      "outputs": [],
      "source": [
        "# Establecer los nuevos valores\n",
        "df['text'] = translated_texts"
      ]
    },
    {
      "cell_type": "code",
      "execution_count": null,
      "metadata": {
        "id": "cBnOYxVuJgmU"
      },
      "outputs": [],
      "source": [
        "# Exportar el nuevo dataframe\n",
        "df.to_csv('dataset-spanish-tweets-test-translated.csv', index=False, encoding='utf-8')"
      ]
    }
  ],
  "metadata": {
    "accelerator": "GPU",
    "colab": {
      "gpuType": "T4",
      "provenance": []
    },
    "kernelspec": {
      "display_name": "Python 3",
      "name": "python3"
    },
    "language_info": {
      "name": "python"
    }
  },
  "nbformat": 4,
  "nbformat_minor": 0
}
