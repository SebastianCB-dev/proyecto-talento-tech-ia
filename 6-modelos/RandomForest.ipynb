{
 "cells": [
  {
   "cell_type": "markdown",
   "metadata": {},
   "source": [
    "### Random Forest - Bosque Aleatório\n",
    "\n",
    "En este notebook se evaluará el algortimo Random Forest, el cual es un algoritmo de aprendizaje supervisado que se puede utilizar tanto para clasificación como para regresión. Es un método de conjunto que se utiliza para mejorar la precisión de los algoritmos de aprendizaje supervisado. La idea principal detrás del método de bosques aleatorios es combinar múltiples árboles de decisión en la construcción de un modelo."
   ]
  },
  {
   "cell_type": "code",
   "execution_count": null,
   "metadata": {},
   "outputs": [],
   "source": [
    "# Instalación de librerías\n",
    "%pip install -r '../requirements.txt'"
   ]
  },
  {
   "cell_type": "code",
   "execution_count": null,
   "metadata": {},
   "outputs": [],
   "source": [
    "# Importación de librerías\n",
    "import pandas as pd\n",
    "from sklearn.ensemble import RandomForestClassifier\n",
    "from sklearn.metrics import accuracy_score, classification_report, confusion_matrix, f1_score, precision_score, recall_score"
   ]
  },
  {
   "cell_type": "code",
   "execution_count": null,
   "metadata": {},
   "outputs": [],
   "source": [
    "# Carga de datos\n",
    "dataset_entrenamiento = pd.read_csv(\n",
    "    '../5-dataset-final/dist/dataset-train.csv')\n",
    "dataset_pruebas = pd.read_csv('../5-dataset-final/dist/dataset-test.csv')\n",
    "dataset_validacion = pd.read_csv(\n",
    "    '../5-dataset-final/dist/dataset-validation.csv')"
   ]
  },
  {
   "cell_type": "code",
   "execution_count": null,
   "metadata": {},
   "outputs": [],
   "source": [
    "# Eliminar valores nulos\n",
    "dataset_entrenamiento = dataset_entrenamiento.dropna()\n",
    "dataset_pruebas = dataset_pruebas.dropna()\n",
    "dataset_validacion = dataset_validacion.dropna()"
   ]
  },
  {
   "cell_type": "code",
   "execution_count": null,
   "metadata": {},
   "outputs": [],
   "source": [
    "# Ver cantidad de registros\n",
    "print(f'Dataset de entrenamiento: {len(dataset_entrenamiento)} registros')\n",
    "print(f'Dataset de pruebas: {len(dataset_pruebas)} registros')\n",
    "print(f'Dataset de validación: {len(dataset_validacion)} registros')"
   ]
  },
  {
   "cell_type": "code",
   "execution_count": null,
   "metadata": {},
   "outputs": [],
   "source": [
    "# División de datos\n",
    "# Entrenamiento\n",
    "X_train = dataset_entrenamiento.drop(columns=['sentiment'])\n",
    "y_train = dataset_entrenamiento['sentiment']\n",
    "# Pruebas\n",
    "X_test = dataset_pruebas.drop(columns=['sentiment'])\n",
    "y_test = dataset_pruebas['sentiment']\n",
    "# Validación\n",
    "X_val = dataset_validacion.drop(columns=['sentiment'])\n",
    "y_val = dataset_validacion['sentiment']"
   ]
  },
  {
   "cell_type": "code",
   "execution_count": null,
   "metadata": {},
   "outputs": [],
   "source": [
    "# Grid para búsqueda de hiperparámetros -> n_estimators\n",
    "n_estimators = [10, 50, 100, 200, 400]\n",
    "\n",
    "# Entrenamiento de modelos\n",
    "resultados = []\n",
    "for n in n_estimators:\n",
    "    # Creación de modelo\n",
    "    modelo = RandomForestClassifier(n_estimators=n, random_state=42)\n",
    "    # Entrenamiento\n",
    "    modelo.fit(X_train, y_train)\n",
    "    # Predicción\n",
    "    y_pred = modelo.predict(X_test)\n",
    "    # Métricas\n",
    "    accuracy = accuracy_score(y_test, y_pred)\n",
    "    reporte = classification_report(y_test, y_pred)\n",
    "    matriz = confusion_matrix(y_test, y_pred)\n",
    "    resultados.append({\n",
    "        'n_estimators': n,\n",
    "        'accuracy': accuracy,\n",
    "        'reporte': reporte,\n",
    "        'matriz': matriz\n",
    "    })\n",
    "\n",
    "# Resultados\n",
    "resultados = pd.DataFrame(resultados)\n",
    "print(resultados)"
   ]
  },
  {
   "cell_type": "code",
   "execution_count": null,
   "metadata": {},
   "outputs": [],
   "source": [
    "# Entrenar el modelo\n",
    "modelo = RandomForestClassifier(n_estimators=50, random_state=0)\n",
    "modelo.fit(X_train, y_train)"
   ]
  },
  {
   "cell_type": "code",
   "execution_count": null,
   "metadata": {},
   "outputs": [],
   "source": [
    "# Resultados con el dataset de entrenamiento\n",
    "y_pred_train = modelo.predict(X_train)\n",
    "\n",
    "accuracy_train = accuracy_score(y_train, y_pred_train)\n",
    "print(classification_report(y_train, y_pred_train))\n",
    "print(confusion_matrix(y_train, y_pred_train))\n",
    "print(f'Accuracy: {accuracy_train}')\n",
    "print(f'F1: {f1_score(y_train, y_pred_train, average=\"macro\")}')\n",
    "print(f'Precision: {precision_score(y_train, y_pred_train, average=\"macro\")}')\n",
    "print(f'Recall: {recall_score(y_train, y_pred_train, average=\"macro\")}')"
   ]
  },
  {
   "cell_type": "code",
   "execution_count": null,
   "metadata": {},
   "outputs": [],
   "source": [
    "# Pruebas\n",
    "y_pred_test = modelo.predict(X_test)\n",
    "\n",
    "accuracy_test = accuracy_score(y_test, y_pred_test)\n",
    "print(classification_report(y_test, y_pred_test))\n",
    "print(confusion_matrix(y_test, y_pred_test))\n",
    "print(f'Accuracy: {accuracy_test}')\n",
    "print(f'F1: {f1_score(y_test, y_pred_test, average=\"macro\")}')\n",
    "print(f'Precision: {precision_score(y_test, y_pred_test, average=\"macro\")}')\n",
    "print(f'Recall: {recall_score(y_test, y_pred_test, average=\"macro\")}')"
   ]
  },
  {
   "cell_type": "code",
   "execution_count": null,
   "metadata": {},
   "outputs": [],
   "source": [
    "# Validación\n",
    "y_pred_val = modelo.predict(X_val)\n",
    "\n",
    "accuracy_val = accuracy_score(y_val, y_pred_val)\n",
    "print(classification_report(y_val, y_pred_val))\n",
    "print(confusion_matrix(y_val, y_pred_val))\n",
    "print(f'Accuracy: {accuracy_val}')\n",
    "print(f'F1: {f1_score(y_val, y_pred_val, average=\"macro\")}')\n",
    "print(f'Precision: {precision_score(y_val, y_pred_val, average=\"macro\")}')\n",
    "print(f'Recall: {recall_score(y_val, y_pred_val, average=\"macro\")}')"
   ]
  }
 ],
 "metadata": {
  "kernelspec": {
   "display_name": "env-talentotech-project",
   "language": "python",
   "name": "python3"
  },
  "language_info": {
   "codemirror_mode": {
    "name": "ipython",
    "version": 3
   },
   "file_extension": ".py",
   "mimetype": "text/x-python",
   "name": "python",
   "nbconvert_exporter": "python",
   "pygments_lexer": "ipython3",
   "version": "3.10.14"
  }
 },
 "nbformat": 4,
 "nbformat_minor": 2
}
