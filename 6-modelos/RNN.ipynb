{
 "cells": [
  {
   "cell_type": "markdown",
   "metadata": {},
   "source": [
    "#### RNN - Recurrent Neural Network - Red Neuronal Recurrente\n",
    "\n",
    "En este notebook se usará una red neuronal recurrente (RNN) para el analisis de sentimientos en texto."
   ]
  },
  {
   "cell_type": "code",
   "execution_count": null,
   "metadata": {},
   "outputs": [],
   "source": [
    "# Instalación de librerías\n",
    "%pip install -r '../requirements.txt'"
   ]
  },
  {
   "cell_type": "code",
   "execution_count": null,
   "metadata": {},
   "outputs": [],
   "source": [
    "# Importar librerías\n",
    "import pandas as pd\n",
    "import numpy as np\n",
    "import tensorflow as tf\n",
    "from sklearn.preprocessing import StandardScaler\n",
    "from tensorflow.keras.utils import to_categorical\n",
    "from tensorflow.keras.callbacks import EarlyStopping\n",
    "from sklearn.metrics import accuracy_score, f1_score, precision_score, recall_score"
   ]
  },
  {
   "cell_type": "code",
   "execution_count": null,
   "metadata": {},
   "outputs": [],
   "source": [
    "# Importar datos\n",
    "dataset_entrenamiento = pd.read_csv('../5-dataset-final/dist/dataset-train.csv')\n",
    "dataset_pruebas = pd.read_csv('../5-dataset-final/dist/dataset-test.csv')\n",
    "dataset_validacion = pd.read_csv('../5-dataset-final/dist/dataset-validation.csv')"
   ]
  },
  {
   "cell_type": "code",
   "execution_count": null,
   "metadata": {},
   "outputs": [],
   "source": [
    "# Dividir datos\n",
    "num_classes = 2\n",
    "\n",
    "x_train = dataset_entrenamiento.drop(columns=['sentiment'])\n",
    "y_train = dataset_entrenamiento['sentiment']\n",
    "y_train = to_categorical(y_train, num_classes=num_classes)\n",
    "\n",
    "x_test = dataset_pruebas.drop(columns=['sentiment'])\n",
    "y_test = dataset_pruebas['sentiment']\n",
    "y_test = to_categorical(y_test, num_classes=num_classes)\n",
    "\n",
    "\n",
    "x_val = dataset_validacion.drop(columns=['sentiment'])\n",
    "y_val = dataset_validacion['sentiment']\n",
    "y_val = to_categorical(y_val, num_classes=num_classes)"
   ]
  },
  {
   "cell_type": "code",
   "execution_count": null,
   "metadata": {},
   "outputs": [],
   "source": [
    "# StandardScaler\n",
    "# Crear objeto\n",
    "\"\"\" scaler = StandardScaler()\n",
    "\n",
    "# Ajustar y transformar\n",
    "X_train = scaler.fit_transform(dataset_entrenamiento.drop(columns=['sentiment']))\n",
    "y_train = dataset_entrenamiento['sentiment']\n",
    "\n",
    "X_test = scaler.transform(dataset_pruebas.drop(columns=['sentiment']))\n",
    "y_test = dataset_pruebas['sentiment']\n",
    "\n",
    "X_val = scaler.transform(dataset_validacion.drop(columns=['sentiment']))\n",
    "y_val = dataset_validacion['sentiment'] \"\"\""
   ]
  },
  {
   "cell_type": "code",
   "execution_count": null,
   "metadata": {},
   "outputs": [],
   "source": [
    "# Red Neuronal Recurrente\n",
    "\n",
    "modelo = tf.keras.models.Sequential([\n",
    "  # 128\n",
    "  tf.keras.layers.SimpleRNN(units=128, input_shape=(150, 1), activation='relu'),\n",
    "  tf.keras.layers.Dropout(rate=0.2),\n",
    "  tf.keras.layers.Dense(units=2, activation='softmax'),\n",
    "])\n",
    "\n",
    "modelo.compile(optimizer=tf.keras.optimizers.Adam(learning_rate=0.001),\n",
    "               loss='categorical_crossentropy',\n",
    "               metrics=['accuracy'])"
   ]
  },
  {
   "cell_type": "code",
   "execution_count": null,
   "metadata": {},
   "outputs": [],
   "source": [
    "# Entrenar\n",
    "print(x_train.shape)\n",
    "print(y_train.shape)\n",
    "modelo.fit(x_train,\n",
    "           y_train,\n",
    "           epochs=50,\n",
    "           batch_size=16,\n",
    "           validation_data=(x_val, y_val))"
   ]
  },
  {
   "cell_type": "code",
   "execution_count": null,
   "metadata": {},
   "outputs": [],
   "source": [
    "# Evaluar\n",
    "print('Dataset entrenamiento')\n",
    "y_pred = modelo.predict(x_train)\n",
    "y_pred = np.argmax(y_pred, axis=1)\n",
    "y_true = np.argmax(y_train, axis=1)\n",
    "print('Accuracy:', accuracy_score(y_true, y_pred))\n",
    "print('Precision:', precision_score(y_true, y_pred))\n",
    "print('Recall:', recall_score(y_true, y_pred))\n",
    "print('F1:', f1_score(y_true, y_pred))"
   ]
  },
  {
   "cell_type": "code",
   "execution_count": null,
   "metadata": {},
   "outputs": [],
   "source": [
    "print('Dataset pruebas')\n",
    "y_pred = modelo.predict(x_test)\n",
    "y_pred = np.argmax(y_pred, axis=1)\n",
    "y_true = np.argmax(y_test, axis=1)\n",
    "print('Accuracy:', accuracy_score(y_true, y_pred))\n",
    "print('Precision:', precision_score(y_true, y_pred))\n",
    "print('Recall:', recall_score(y_true, y_pred))\n",
    "print('F1:', f1_score(y_true, y_pred))"
   ]
  },
  {
   "cell_type": "code",
   "execution_count": null,
   "metadata": {},
   "outputs": [],
   "source": [
    "print('Dataset validación')\n",
    "y_pred = modelo.predict(x_val)\n",
    "y_pred = np.argmax(y_pred, axis=1)\n",
    "y_true = np.argmax(y_val, axis=1)\n",
    "print('Accuracy:', accuracy_score(y_true, y_pred))\n",
    "print('Precision:', precision_score(y_true, y_pred))\n",
    "print('Recall:', recall_score(y_true, y_pred))\n",
    "print('F1:', f1_score(y_true, y_pred))\n"
   ]
  }
 ],
 "metadata": {
  "kernelspec": {
   "display_name": "env-talentotech-project",
   "language": "python",
   "name": "python3"
  },
  "language_info": {
   "codemirror_mode": {
    "name": "ipython",
    "version": 3
   },
   "file_extension": ".py",
   "mimetype": "text/x-python",
   "name": "python",
   "nbconvert_exporter": "python",
   "pygments_lexer": "ipython3",
   "version": "3.10.14"
  }
 },
 "nbformat": 4,
 "nbformat_minor": 2
}
