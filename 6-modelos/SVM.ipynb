{
 "cells": [
  {
   "cell_type": "markdown",
   "metadata": {},
   "source": [
    "### SVM - Support Vector Machine\n",
    "\n",
    "En este notebook se evaluará el algoritmo SVM con Kernel y sin Kernel."
   ]
  },
  {
   "cell_type": "code",
   "execution_count": null,
   "metadata": {},
   "outputs": [],
   "source": [
    "# Instalación de librerías\n",
    "%pip install -r '../requirements.txt'"
   ]
  },
  {
   "cell_type": "code",
   "execution_count": null,
   "metadata": {},
   "outputs": [],
   "source": [
    "# Importación de librerías\n",
    "import pandas as pd\n",
    "from sklearn.svm import SVC # Clasificador SVM\n",
    "from sklearn.metrics import accuracy_score, classification_report, confusion_matrix, f1_score, precision_score, recall_score"
   ]
  },
  {
   "cell_type": "code",
   "execution_count": null,
   "metadata": {},
   "outputs": [],
   "source": [
    "# Carga de datos\n",
    "dataset_entrenamiento = pd.read_csv(\n",
    "    '../5-dataset-final/dist/dataset-train.csv')\n",
    "dataset_pruebas = pd.read_csv('../5-dataset-final/dist/dataset-test.csv')\n",
    "dataset_validacion = pd.read_csv(\n",
    "    '../5-dataset-final/dist/dataset-validation.csv')"
   ]
  },
  {
   "cell_type": "code",
   "execution_count": null,
   "metadata": {},
   "outputs": [],
   "source": [
    "# Eliminar valores nulos\n",
    "dataset_entrenamiento = dataset_entrenamiento.dropna()\n",
    "dataset_pruebas = dataset_pruebas.dropna()\n",
    "dataset_validacion = dataset_validacion.dropna()"
   ]
  },
  {
   "cell_type": "code",
   "execution_count": null,
   "metadata": {},
   "outputs": [],
   "source": [
    "# Ver cantidad de registros\n",
    "print(f'Dataset de entrenamiento: {len(dataset_entrenamiento)} registros')\n",
    "print(f'Dataset de pruebas: {len(dataset_pruebas)} registros')\n",
    "print(f'Dataset de validación: {len(dataset_validacion)} registros')"
   ]
  },
  {
   "cell_type": "code",
   "execution_count": null,
   "metadata": {},
   "outputs": [],
   "source": [
    "# División de datos\n",
    "# Entrenamiento\n",
    "X_train = dataset_entrenamiento.drop(columns=['sentiment'])\n",
    "y_train = dataset_entrenamiento['sentiment']\n",
    "# Pruebas\n",
    "X_test = dataset_pruebas.drop(columns=['sentiment'])\n",
    "y_test = dataset_pruebas['sentiment']\n",
    "# Validación\n",
    "X_val = dataset_validacion.drop(columns=['sentiment'])\n",
    "y_val = dataset_validacion['sentiment']"
   ]
  },
  {
   "cell_type": "code",
   "execution_count": null,
   "metadata": {},
   "outputs": [],
   "source": [
    "# Entrenar modelo\n",
    "# SVM con Kernel\n",
    "svm_kernel = SVC(C=1, kernel='rbf', gamma=0.1)\n",
    "svm_kernel.fit(X_train, y_train)\n",
    "# SVM sin Kernel\n",
    "svm_no_kernel = SVC(C=1, kernel='linear')\n",
    "svm_no_kernel.fit(X_train, y_train)"
   ]
  },
  {
   "cell_type": "code",
   "execution_count": null,
   "metadata": {},
   "outputs": [],
   "source": [
    "# SVM con Kernel\n",
    "y_pred_train = svm_kernel.predict(X_train)\n",
    "\n",
    "accuracy_train = accuracy_score(y_train, y_pred_train)\n",
    "print(classification_report(y_train, y_pred_train))\n",
    "print(confusion_matrix(y_train, y_pred_train))\n",
    "print(f'Accuracy: {accuracy_train}')\n",
    "print('F1 Score:', f1_score(y_train, y_pred_train, average='weighted'))\n",
    "print('Precision:', precision_score(y_train, y_pred_train, average='weighted'))\n",
    "print('Recall:', recall_score(y_train, y_pred_train, average='weighted'))\n",
    "\n",
    "# SVM sin Kernel\n",
    "y_pred_train = svm_no_kernel.predict(X_train)\n",
    "\n",
    "accuracy_train = accuracy_score(y_train, y_pred_train)\n",
    "print(classification_report(y_train, y_pred_train))\n",
    "print(confusion_matrix(y_train, y_pred_train))\n",
    "print(f'Accuracy: {accuracy_train}')\n",
    "print('F1 Score:', f1_score(y_train, y_pred_train, average='weighted'))\n",
    "print('Precision:', precision_score(y_train, y_pred_train, average='weighted'))\n",
    "print('Recall:', recall_score(y_train, y_pred_train, average='weighted'))"
   ]
  },
  {
   "cell_type": "code",
   "execution_count": null,
   "metadata": {},
   "outputs": [],
   "source": [
    "# Pruebas\n",
    "# SVM con Kernel\n",
    "y_pred_test = svm_kernel.predict(X_test)\n",
    "\n",
    "accuracy_test = accuracy_score(y_test, y_pred_test)\n",
    "print(classification_report(y_test, y_pred_test))\n",
    "print(confusion_matrix(y_test, y_pred_test))\n",
    "print(f'Accuracy: {accuracy_test}')\n",
    "print('F1 Score:', f1_score(y_test, y_pred_test, average='weighted'))\n",
    "print('Precision:', precision_score(y_test, y_pred_test, average='weighted'))\n",
    "print('Recall:', recall_score(y_test, y_pred_test, average='weighted'))\n",
    "\n",
    "# SVM sin Kernel\n",
    "y_pred_test = svm_no_kernel.predict(X_test)\n",
    "\n",
    "accuracy_test = accuracy_score(y_test, y_pred_test)\n",
    "print(classification_report(y_test, y_pred_test))\n",
    "print(confusion_matrix(y_test, y_pred_test))\n",
    "print(f'Accuracy: {accuracy_test}')\n",
    "print('F1 Score:', f1_score(y_test, y_pred_test, average='weighted'))\n",
    "print('Precision:', precision_score(y_test, y_pred_test, average='weighted'))\n",
    "print('Recall:', recall_score(y_test, y_pred_test, average='weighted'))"
   ]
  },
  {
   "cell_type": "code",
   "execution_count": null,
   "metadata": {},
   "outputs": [],
   "source": [
    "# Validación\n",
    "# SVM con Kernel\n",
    "y_pred_val = svm_kernel.predict(X_val)\n",
    "\n",
    "accuracy_val = accuracy_score(y_val, y_pred_val)\n",
    "print(classification_report(y_val, y_pred_val))\n",
    "print(confusion_matrix(y_val, y_pred_val))\n",
    "print(f'Accuracy: {accuracy_val}')\n",
    "print('F1 Score:', f1_score(y_val, y_pred_val, average='weighted'))\n",
    "print('Precision:', precision_score(y_val, y_pred_val, average='weighted'))\n",
    "print('Recall:', recall_score(y_val, y_pred_val, average='weighted'))\n",
    "\n",
    "# SVM sin Kernel\n",
    "y_pred_val = svm_no_kernel.predict(X_val)\n",
    "\n",
    "accuracy_val = accuracy_score(y_val, y_pred_val)\n",
    "print(classification_report(y_val, y_pred_val))\n",
    "print(confusion_matrix(y_val, y_pred_val))\n",
    "print(f'Accuracy: {accuracy_val}')\n",
    "print('F1 Score:', f1_score(y_val, y_pred_val, average='weighted'))\n",
    "print('Precision:', precision_score(y_val, y_pred_val, average='weighted'))\n",
    "print('Recall:', recall_score(y_val, y_pred_val, average='weighted'))"
   ]
  }
 ],
 "metadata": {
  "kernelspec": {
   "display_name": "env-talentotech-project",
   "language": "python",
   "name": "python3"
  },
  "language_info": {
   "codemirror_mode": {
    "name": "ipython",
    "version": 3
   },
   "file_extension": ".py",
   "mimetype": "text/x-python",
   "name": "python",
   "nbconvert_exporter": "python",
   "pygments_lexer": "ipython3",
   "version": "3.10.14"
  }
 },
 "nbformat": 4,
 "nbformat_minor": 2
}
