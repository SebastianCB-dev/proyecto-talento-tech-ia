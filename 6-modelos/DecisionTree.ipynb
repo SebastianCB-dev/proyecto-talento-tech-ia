{
 "cells": [
  {
   "cell_type": "markdown",
   "metadata": {},
   "source": [
    "# Decision Tree Classifier - Arbol de Decision\n",
    "\n",
    "En este notebook se implementará el algoritmo de clasificación de árbol de decisión."
   ]
  },
  {
   "cell_type": "code",
   "execution_count": null,
   "metadata": {},
   "outputs": [],
   "source": [
    "# Instalación de librerías\n",
    "%pip install -r '../requirements.txt'"
   ]
  },
  {
   "cell_type": "code",
   "execution_count": null,
   "metadata": {},
   "outputs": [],
   "source": [
    "# Importación de librerías\n",
    "import pandas as pd\n",
    "from sklearn.tree import DecisionTreeClassifier\n",
    "from sklearn.model_selection import GridSearchCV\n",
    "from sklearn.metrics import accuracy_score, classification_report, confusion_matrix, f1_score, precision_score, recall_score"
   ]
  },
  {
   "cell_type": "code",
   "execution_count": null,
   "metadata": {},
   "outputs": [],
   "source": [
    "# Carga de datos\n",
    "dataset_entrenamiento = pd.read_csv(\n",
    "    '../5-dataset-final/dist/dataset-train.csv')\n",
    "dataset_pruebas = pd.read_csv('../5-dataset-final/dist/dataset-test.csv')\n",
    "dataset_validacion = pd.read_csv(\n",
    "    '../5-dataset-final/dist/dataset-validation.csv')"
   ]
  },
  {
   "cell_type": "code",
   "execution_count": null,
   "metadata": {},
   "outputs": [],
   "source": [
    "# Eliminar valores nulos\n",
    "dataset_entrenamiento = dataset_entrenamiento.dropna()\n",
    "dataset_pruebas = dataset_pruebas.dropna()\n",
    "dataset_validacion = dataset_validacion.dropna()"
   ]
  },
  {
   "cell_type": "code",
   "execution_count": null,
   "metadata": {},
   "outputs": [],
   "source": [
    "# Ver cantidad de registros\n",
    "print(f'Dataset de entrenamiento: {len(dataset_entrenamiento)} registros')\n",
    "print(f'Dataset de pruebas: {len(dataset_pruebas)} registros')\n",
    "print(f'Dataset de validación: {len(dataset_validacion)} registros')"
   ]
  },
  {
   "cell_type": "code",
   "execution_count": null,
   "metadata": {},
   "outputs": [],
   "source": [
    "# División de datos\n",
    "# Entrenamiento\n",
    "X_train = dataset_entrenamiento.drop(columns=['sentiment'])\n",
    "y_train = dataset_entrenamiento['sentiment']\n",
    "# Pruebas\n",
    "X_test = dataset_pruebas.drop(columns=['sentiment'])\n",
    "y_test = dataset_pruebas['sentiment']\n",
    "# Validación\n",
    "X_val = dataset_validacion.drop(columns=['sentiment'])\n",
    "y_val = dataset_validacion['sentiment']"
   ]
  },
  {
   "cell_type": "code",
   "execution_count": null,
   "metadata": {},
   "outputs": [],
   "source": [
    "# Modelo\n",
    "modelo_entropy = DecisionTreeClassifier(criterion='entropy', random_state=0)\n",
    "modelo_gini = DecisionTreeClassifier(criterion='gini', random_state=0)"
   ]
  },
  {
   "cell_type": "code",
   "execution_count": null,
   "metadata": {},
   "outputs": [],
   "source": [
    "# Entrenamiento\n",
    "modelo_entropy.fit(X_train, y_train)\n",
    "modelo_gini.fit(X_train, y_train)"
   ]
  },
  {
   "cell_type": "code",
   "execution_count": null,
   "metadata": {},
   "outputs": [],
   "source": [
    "# Predicción con datos de entrenamiento\n",
    "y_pred_entropy = modelo_entropy.predict(X_train)\n",
    "y_pred_gini = modelo_gini.predict(X_train)\n",
    "\n",
    "# Métricas\n",
    "print('Entrenamiento')\n",
    "print('Entropy')\n",
    "print(classification_report(y_train, y_pred_entropy))\n",
    "print('Matriz de confusión')\n",
    "print(confusion_matrix(y_train, y_pred_entropy))\n",
    "print(f'Accuracy: {accuracy_score(y_train, y_pred_entropy)}')\n",
    "print('F1 Score', f1_score(y_train, y_pred_entropy))\n",
    "print('Precision', precision_score(y_train, y_pred_entropy))\n",
    "print('Recall', recall_score(y_train, y_pred_entropy))\n",
    "print('Gini')\n",
    "print(classification_report(y_train, y_pred_gini))\n",
    "print('Matriz de confusión')\n",
    "print(confusion_matrix(y_train, y_pred_gini))\n",
    "print(f'Accuracy: {accuracy_score(y_train, y_pred_gini)}')\n",
    "print('F1 Score', f1_score(y_train, y_pred_gini))\n",
    "print('Precision', precision_score(y_train, y_pred_gini))\n",
    "print('Recall', recall_score(y_train, y_pred_gini))\n"
   ]
  },
  {
   "cell_type": "code",
   "execution_count": null,
   "metadata": {},
   "outputs": [],
   "source": [
    "# Predicción con datos de pruebas\n",
    "y_pred_entropy = modelo_entropy.predict(X_test)\n",
    "y_pred_gini = modelo_gini.predict(X_test)\n",
    "\n",
    "# Métricas\n",
    "print('Pruebas')\n",
    "print('Entropy')\n",
    "print(classification_report(y_test, y_pred_entropy))\n",
    "print('Matriz de confusión')\n",
    "print(confusion_matrix(y_test, y_pred_entropy))\n",
    "print(f'Accuracy: {accuracy_score(y_test, y_pred_entropy)}')\n",
    "print('F1 Score', f1_score(y_test, y_pred_entropy))\n",
    "print('Precision', precision_score(y_test, y_pred_entropy))\n",
    "print('Recall', recall_score(y_test, y_pred_entropy))\n",
    "print('Gini')\n",
    "print(classification_report(y_test, y_pred_gini))\n",
    "print('Matriz de confusión')\n",
    "print(confusion_matrix(y_test, y_pred_gini))\n",
    "print(f'Accuracy: {accuracy_score(y_test, y_pred_gini)}')\n",
    "print('F1 Score', f1_score(y_test, y_pred_gini))\n",
    "print('Precision', precision_score(y_test, y_pred_gini))\n",
    "print('Recall', recall_score(y_test, y_pred_gini))\n"
   ]
  },
  {
   "cell_type": "code",
   "execution_count": null,
   "metadata": {},
   "outputs": [],
   "source": [
    "# Predicción con datos de validación\n",
    "y_pred_entropy = modelo_entropy.predict(X_val)\n",
    "y_pred_gini = modelo_gini.predict(X_val)\n",
    "\n",
    "# Métricas\n",
    "print('Validación')\n",
    "print('Entropy')\n",
    "print(classification_report(y_val, y_pred_entropy))\n",
    "print('Matriz de confusión')\n",
    "print(confusion_matrix(y_val, y_pred_entropy))\n",
    "print(f'Accuracy: {accuracy_score(y_val, y_pred_entropy)}')\n",
    "print('F1 Score', f1_score(y_val, y_pred_entropy))\n",
    "print('Precision', precision_score(y_val, y_pred_entropy))\n",
    "print('Recall', recall_score(y_val, y_pred_entropy))\n",
    "print('Gini')\n",
    "print(classification_report(y_val, y_pred_gini))\n",
    "print('Matriz de confusión')\n",
    "print(confusion_matrix(y_val, y_pred_gini))\n",
    "print(f'Accuracy: {accuracy_score(y_val, y_pred_gini)}')\n",
    "print('F1 Score', f1_score(y_val, y_pred_gini))\n",
    "print('Precision', precision_score(y_val, y_pred_gini))\n",
    "print('Recall', recall_score(y_val, y_pred_gini))"
   ]
  }
 ],
 "metadata": {
  "kernelspec": {
   "display_name": "env-talentotech-project",
   "language": "python",
   "name": "python3"
  },
  "language_info": {
   "codemirror_mode": {
    "name": "ipython",
    "version": 3
   },
   "file_extension": ".py",
   "mimetype": "text/x-python",
   "name": "python",
   "nbconvert_exporter": "python",
   "pygments_lexer": "ipython3",
   "version": "3.10.14"
  }
 },
 "nbformat": 4,
 "nbformat_minor": 2
}
