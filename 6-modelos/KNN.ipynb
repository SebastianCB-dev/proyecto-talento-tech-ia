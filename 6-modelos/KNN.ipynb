{
 "cells": [
  {
   "cell_type": "markdown",
   "metadata": {},
   "source": [
    "### KNN - K-Nearest Neighbors\n",
    "\n",
    "En este notebook se evaluará el algoritmo KNN."
   ]
  },
  {
   "cell_type": "code",
   "execution_count": null,
   "metadata": {},
   "outputs": [],
   "source": [
    "# Instalación de librerías\n",
    "%pip install -r '../requirements.txt'"
   ]
  },
  {
   "cell_type": "code",
   "execution_count": null,
   "metadata": {},
   "outputs": [],
   "source": [
    "# Importación de librerías\n",
    "import pandas as pd\n",
    "from sklearn.neighbors import KNeighborsClassifier\n",
    "from sklearn.model_selection import GridSearchCV\n",
    "from sklearn.metrics import accuracy_score, classification_report, confusion_matrix"
   ]
  },
  {
   "cell_type": "code",
   "execution_count": null,
   "metadata": {},
   "outputs": [],
   "source": [
    "# Carga de datos\n",
    "dataset_entrenamiento = pd.read_csv(\n",
    "    '../5-dataset-final/dist/dataset-train.csv')\n",
    "dataset_pruebas = pd.read_csv('../5-dataset-final/dist/dataset-test.csv')\n",
    "dataset_validacion = pd.read_csv(\n",
    "    '../5-dataset-final/dist/dataset-validation.csv')"
   ]
  },
  {
   "cell_type": "code",
   "execution_count": null,
   "metadata": {},
   "outputs": [],
   "source": [
    "# Eliminar valores nulos\n",
    "dataset_entrenamiento = dataset_entrenamiento.dropna()\n",
    "dataset_pruebas = dataset_pruebas.dropna()\n",
    "dataset_validacion = dataset_validacion.dropna()"
   ]
  },
  {
   "cell_type": "code",
   "execution_count": null,
   "metadata": {},
   "outputs": [],
   "source": [
    "# Ver cantidad de registros\n",
    "print(f'Dataset de entrenamiento: {len(dataset_entrenamiento)} registros')\n",
    "print(f'Dataset de pruebas: {len(dataset_pruebas)} registros')\n",
    "print(f'Dataset de validación: {len(dataset_validacion)} registros')"
   ]
  },
  {
   "cell_type": "code",
   "execution_count": null,
   "metadata": {},
   "outputs": [],
   "source": [
    "# División de datos\n",
    "# Entrenamiento\n",
    "X_train = dataset_entrenamiento.drop(columns=['sentiment'])\n",
    "y_train = dataset_entrenamiento['sentiment']\n",
    "# Pruebas\n",
    "X_test = dataset_pruebas.drop(columns=['sentiment'])\n",
    "y_test = dataset_pruebas['sentiment']\n",
    "# Validación\n",
    "X_val = dataset_validacion.drop(columns=['sentiment'])\n",
    "y_val = dataset_validacion['sentiment']"
   ]
  },
  {
   "cell_type": "code",
   "execution_count": null,
   "metadata": {},
   "outputs": [],
   "source": [
    "# Grid para encontrar el mejor K (n_neighbors)\n",
    "k_values = list(range(1, 30))\n",
    "param_grid = {\n",
    "    'n_neighbors': k_values\n",
    "}\n",
    "\n",
    "# Modelo\n",
    "knn = KNeighborsClassifier()\n",
    "grid_search = GridSearchCV(knn, param_grid, cv=5)\n",
    "grid_search.fit(X_train, y_train)\n",
    "\n",
    "# Mejor K\n",
    "best_k = grid_search.best_params_['n_neighbors']\n",
    "print(f'Mejor K: {best_k}')\n"
   ]
  },
  {
   "cell_type": "code",
   "execution_count": null,
   "metadata": {},
   "outputs": [],
   "source": [
    "# Entrenar modelo\n",
    "knn = KNeighborsClassifier(n_neighbors=best_k)\n",
    "knn.fit(X_train, y_train)"
   ]
  },
  {
   "cell_type": "code",
   "execution_count": null,
   "metadata": {},
   "outputs": [],
   "source": [
    "y_pred_train = knn.predict(X_train)\n",
    "\n",
    "accuracy_train = accuracy_score(y_train, y_pred_train)\n",
    "print(f'Precisión en el conjunto de entrenamiento: {accuracy_train}')\n",
    "print(classification_report(y_train, y_pred_train))\n",
    "print(confusion_matrix(y_train, y_pred_train))"
   ]
  },
  {
   "cell_type": "code",
   "execution_count": null,
   "metadata": {},
   "outputs": [],
   "source": [
    "# Pruebas\n",
    "y_pred_test = knn.predict(X_test)\n",
    "\n",
    "accuracy_test = accuracy_score(y_test, y_pred_test)\n",
    "print(f'Precisión en el conjunto de pruebas: {accuracy_test}')\n",
    "print(classification_report(y_test, y_pred_test))\n",
    "print(confusion_matrix(y_test, y_pred_test))"
   ]
  },
  {
   "cell_type": "code",
   "execution_count": null,
   "metadata": {},
   "outputs": [],
   "source": [
    "# Validación\n",
    "y_pred_val = knn.predict(X_val)\n",
    "\n",
    "accuracy_val = accuracy_score(y_val, y_pred_val)\n",
    "print(f'Precisión en el conjunto de validación: {accuracy_val}')\n",
    "print(classification_report(y_val, y_pred_val))\n",
    "print(confusion_matrix(y_val, y_pred_val))"
   ]
  }
 ],
 "metadata": {
  "kernelspec": {
   "display_name": "env-talentotech-project",
   "language": "python",
   "name": "python3"
  },
  "language_info": {
   "codemirror_mode": {
    "name": "ipython",
    "version": 3
   },
   "file_extension": ".py",
   "mimetype": "text/x-python",
   "name": "python",
   "nbconvert_exporter": "python",
   "pygments_lexer": "ipython3",
   "version": "3.10.14"
  }
 },
 "nbformat": 4,
 "nbformat_minor": 2
}
