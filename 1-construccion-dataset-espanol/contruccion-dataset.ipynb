{
 "cells": [
  {
   "cell_type": "markdown",
   "metadata": {},
   "source": [
    "# Construcción del dataset\n",
    "\n",
    "En la carpeta `assets` se encuentran dos archivos CSV que contienen información de tweets en Inglés con su respectiva clasificación de sentimiento. El objetivo de este notebook es construir un dataset que contenga la información de ambos archivos. Se seleccionaran de cada archivo 2000 tweets positivos, 2000 tweets negativos y 2000 neutral. Se traducirán los tweets al español y se almacenarán en un archivo CSV."
   ]
  },
  {
   "cell_type": "code",
   "execution_count": 1,
   "metadata": {},
   "outputs": [
    {
     "name": "stdout",
     "output_type": "stream",
     "text": [
      "Requirement already satisfied: pandas==2.2.2 in /Users/sebastiancb/anaconda3/envs/env-talentotech-project/lib/python3.10/site-packages (from -r ../requirements.txt (line 1)) (2.2.2)\n",
      "Requirement already satisfied: scikit-learn==1.5.1 in /Users/sebastiancb/anaconda3/envs/env-talentotech-project/lib/python3.10/site-packages (from -r ../requirements.txt (line 2)) (1.5.1)\n",
      "Requirement already satisfied: EasyNMT==2.0.2 in /Users/sebastiancb/anaconda3/envs/env-talentotech-project/lib/python3.10/site-packages (from -r ../requirements.txt (line 3)) (2.0.2)\n",
      "Requirement already satisfied: numpy>=1.22.4 in /Users/sebastiancb/anaconda3/envs/env-talentotech-project/lib/python3.10/site-packages (from pandas==2.2.2->-r ../requirements.txt (line 1)) (2.0.1)\n",
      "Requirement already satisfied: python-dateutil>=2.8.2 in /Users/sebastiancb/anaconda3/envs/env-talentotech-project/lib/python3.10/site-packages (from pandas==2.2.2->-r ../requirements.txt (line 1)) (2.9.0)\n",
      "Requirement already satisfied: pytz>=2020.1 in /Users/sebastiancb/anaconda3/envs/env-talentotech-project/lib/python3.10/site-packages (from pandas==2.2.2->-r ../requirements.txt (line 1)) (2024.1)\n",
      "Requirement already satisfied: tzdata>=2022.7 in /Users/sebastiancb/anaconda3/envs/env-talentotech-project/lib/python3.10/site-packages (from pandas==2.2.2->-r ../requirements.txt (line 1)) (2024.1)\n",
      "Requirement already satisfied: scipy>=1.6.0 in /Users/sebastiancb/anaconda3/envs/env-talentotech-project/lib/python3.10/site-packages (from scikit-learn==1.5.1->-r ../requirements.txt (line 2)) (1.14.0)\n",
      "Requirement already satisfied: joblib>=1.2.0 in /Users/sebastiancb/anaconda3/envs/env-talentotech-project/lib/python3.10/site-packages (from scikit-learn==1.5.1->-r ../requirements.txt (line 2)) (1.4.2)\n",
      "Requirement already satisfied: threadpoolctl>=3.1.0 in /Users/sebastiancb/anaconda3/envs/env-talentotech-project/lib/python3.10/site-packages (from scikit-learn==1.5.1->-r ../requirements.txt (line 2)) (3.5.0)\n",
      "Requirement already satisfied: tqdm in /Users/sebastiancb/anaconda3/envs/env-talentotech-project/lib/python3.10/site-packages (from EasyNMT==2.0.2->-r ../requirements.txt (line 3)) (4.66.5)\n",
      "Requirement already satisfied: transformers<5,>=4.4 in /Users/sebastiancb/anaconda3/envs/env-talentotech-project/lib/python3.10/site-packages (from EasyNMT==2.0.2->-r ../requirements.txt (line 3)) (4.44.0)\n",
      "Requirement already satisfied: torch>=1.6.0 in /Users/sebastiancb/anaconda3/envs/env-talentotech-project/lib/python3.10/site-packages (from EasyNMT==2.0.2->-r ../requirements.txt (line 3)) (2.4.0)\n",
      "Requirement already satisfied: nltk in /Users/sebastiancb/anaconda3/envs/env-talentotech-project/lib/python3.10/site-packages (from EasyNMT==2.0.2->-r ../requirements.txt (line 3)) (3.8.2)\n",
      "Requirement already satisfied: sentencepiece in /Users/sebastiancb/anaconda3/envs/env-talentotech-project/lib/python3.10/site-packages (from EasyNMT==2.0.2->-r ../requirements.txt (line 3)) (0.2.0)\n",
      "Requirement already satisfied: fasttext in /Users/sebastiancb/anaconda3/envs/env-talentotech-project/lib/python3.10/site-packages (from EasyNMT==2.0.2->-r ../requirements.txt (line 3)) (0.9.3)\n",
      "Requirement already satisfied: protobuf in /Users/sebastiancb/anaconda3/envs/env-talentotech-project/lib/python3.10/site-packages (from EasyNMT==2.0.2->-r ../requirements.txt (line 3)) (5.27.3)\n",
      "Requirement already satisfied: six>=1.5 in /Users/sebastiancb/anaconda3/envs/env-talentotech-project/lib/python3.10/site-packages (from python-dateutil>=2.8.2->pandas==2.2.2->-r ../requirements.txt (line 1)) (1.16.0)\n",
      "Requirement already satisfied: filelock in /Users/sebastiancb/anaconda3/envs/env-talentotech-project/lib/python3.10/site-packages (from torch>=1.6.0->EasyNMT==2.0.2->-r ../requirements.txt (line 3)) (3.15.4)\n",
      "Requirement already satisfied: typing-extensions>=4.8.0 in /Users/sebastiancb/anaconda3/envs/env-talentotech-project/lib/python3.10/site-packages (from torch>=1.6.0->EasyNMT==2.0.2->-r ../requirements.txt (line 3)) (4.12.2)\n",
      "Requirement already satisfied: sympy in /Users/sebastiancb/anaconda3/envs/env-talentotech-project/lib/python3.10/site-packages (from torch>=1.6.0->EasyNMT==2.0.2->-r ../requirements.txt (line 3)) (1.13.1)\n",
      "Requirement already satisfied: networkx in /Users/sebastiancb/anaconda3/envs/env-talentotech-project/lib/python3.10/site-packages (from torch>=1.6.0->EasyNMT==2.0.2->-r ../requirements.txt (line 3)) (3.3)\n",
      "Requirement already satisfied: jinja2 in /Users/sebastiancb/anaconda3/envs/env-talentotech-project/lib/python3.10/site-packages (from torch>=1.6.0->EasyNMT==2.0.2->-r ../requirements.txt (line 3)) (3.1.4)\n",
      "Requirement already satisfied: fsspec in /Users/sebastiancb/anaconda3/envs/env-talentotech-project/lib/python3.10/site-packages (from torch>=1.6.0->EasyNMT==2.0.2->-r ../requirements.txt (line 3)) (2024.6.1)\n",
      "Requirement already satisfied: huggingface-hub<1.0,>=0.23.2 in /Users/sebastiancb/anaconda3/envs/env-talentotech-project/lib/python3.10/site-packages (from transformers<5,>=4.4->EasyNMT==2.0.2->-r ../requirements.txt (line 3)) (0.24.5)\n",
      "Requirement already satisfied: packaging>=20.0 in /Users/sebastiancb/anaconda3/envs/env-talentotech-project/lib/python3.10/site-packages (from transformers<5,>=4.4->EasyNMT==2.0.2->-r ../requirements.txt (line 3)) (24.1)\n",
      "Requirement already satisfied: pyyaml>=5.1 in /Users/sebastiancb/anaconda3/envs/env-talentotech-project/lib/python3.10/site-packages (from transformers<5,>=4.4->EasyNMT==2.0.2->-r ../requirements.txt (line 3)) (6.0.2)\n",
      "Requirement already satisfied: regex!=2019.12.17 in /Users/sebastiancb/anaconda3/envs/env-talentotech-project/lib/python3.10/site-packages (from transformers<5,>=4.4->EasyNMT==2.0.2->-r ../requirements.txt (line 3)) (2024.7.24)\n",
      "Requirement already satisfied: requests in /Users/sebastiancb/anaconda3/envs/env-talentotech-project/lib/python3.10/site-packages (from transformers<5,>=4.4->EasyNMT==2.0.2->-r ../requirements.txt (line 3)) (2.32.3)\n",
      "Requirement already satisfied: safetensors>=0.4.1 in /Users/sebastiancb/anaconda3/envs/env-talentotech-project/lib/python3.10/site-packages (from transformers<5,>=4.4->EasyNMT==2.0.2->-r ../requirements.txt (line 3)) (0.4.4)\n",
      "Requirement already satisfied: tokenizers<0.20,>=0.19 in /Users/sebastiancb/anaconda3/envs/env-talentotech-project/lib/python3.10/site-packages (from transformers<5,>=4.4->EasyNMT==2.0.2->-r ../requirements.txt (line 3)) (0.19.1)\n",
      "Requirement already satisfied: pybind11>=2.2 in /Users/sebastiancb/anaconda3/envs/env-talentotech-project/lib/python3.10/site-packages (from fasttext->EasyNMT==2.0.2->-r ../requirements.txt (line 3)) (2.13.1)\n",
      "Requirement already satisfied: setuptools>=0.7.0 in /Users/sebastiancb/anaconda3/envs/env-talentotech-project/lib/python3.10/site-packages (from fasttext->EasyNMT==2.0.2->-r ../requirements.txt (line 3)) (72.1.0)\n",
      "Requirement already satisfied: click in /Users/sebastiancb/anaconda3/envs/env-talentotech-project/lib/python3.10/site-packages (from nltk->EasyNMT==2.0.2->-r ../requirements.txt (line 3)) (8.1.7)\n",
      "Requirement already satisfied: MarkupSafe>=2.0 in /Users/sebastiancb/anaconda3/envs/env-talentotech-project/lib/python3.10/site-packages (from jinja2->torch>=1.6.0->EasyNMT==2.0.2->-r ../requirements.txt (line 3)) (2.1.5)\n",
      "Requirement already satisfied: charset-normalizer<4,>=2 in /Users/sebastiancb/anaconda3/envs/env-talentotech-project/lib/python3.10/site-packages (from requests->transformers<5,>=4.4->EasyNMT==2.0.2->-r ../requirements.txt (line 3)) (3.3.2)\n",
      "Requirement already satisfied: idna<4,>=2.5 in /Users/sebastiancb/anaconda3/envs/env-talentotech-project/lib/python3.10/site-packages (from requests->transformers<5,>=4.4->EasyNMT==2.0.2->-r ../requirements.txt (line 3)) (3.7)\n",
      "Requirement already satisfied: urllib3<3,>=1.21.1 in /Users/sebastiancb/anaconda3/envs/env-talentotech-project/lib/python3.10/site-packages (from requests->transformers<5,>=4.4->EasyNMT==2.0.2->-r ../requirements.txt (line 3)) (2.2.2)\n",
      "Requirement already satisfied: certifi>=2017.4.17 in /Users/sebastiancb/anaconda3/envs/env-talentotech-project/lib/python3.10/site-packages (from requests->transformers<5,>=4.4->EasyNMT==2.0.2->-r ../requirements.txt (line 3)) (2024.7.4)\n",
      "Requirement already satisfied: mpmath<1.4,>=1.1.0 in /Users/sebastiancb/anaconda3/envs/env-talentotech-project/lib/python3.10/site-packages (from sympy->torch>=1.6.0->EasyNMT==2.0.2->-r ../requirements.txt (line 3)) (1.3.0)\n",
      "Note: you may need to restart the kernel to use updated packages.\n"
     ]
    }
   ],
   "source": [
    "# Instalación de librerías\n",
    "%pip install -r '../requirements.txt'"
   ]
  },
  {
   "cell_type": "code",
   "execution_count": 2,
   "metadata": {},
   "outputs": [],
   "source": [
    "# Importación de librerías\n",
    "import pandas as pd\n",
    "from sklearn.model_selection import train_test_split"
   ]
  },
  {
   "cell_type": "markdown",
   "metadata": {},
   "source": [
    "#### Dataset 1"
   ]
  },
  {
   "cell_type": "code",
   "execution_count": 3,
   "metadata": {},
   "outputs": [
    {
     "name": "stdout",
     "output_type": "stream",
     "text": [
      "                 id\n",
      "count  74682.000000\n",
      "mean    6432.586165\n",
      "std     3740.427870\n",
      "min        1.000000\n",
      "25%     3195.000000\n",
      "50%     6422.000000\n",
      "75%     9601.000000\n",
      "max    13200.000000\n"
     ]
    },
    {
     "data": {
      "text/html": [
       "<div>\n",
       "<style scoped>\n",
       "    .dataframe tbody tr th:only-of-type {\n",
       "        vertical-align: middle;\n",
       "    }\n",
       "\n",
       "    .dataframe tbody tr th {\n",
       "        vertical-align: top;\n",
       "    }\n",
       "\n",
       "    .dataframe thead th {\n",
       "        text-align: right;\n",
       "    }\n",
       "</style>\n",
       "<table border=\"1\" class=\"dataframe\">\n",
       "  <thead>\n",
       "    <tr style=\"text-align: right;\">\n",
       "      <th></th>\n",
       "      <th>id</th>\n",
       "      <th>entity</th>\n",
       "      <th>sentiment</th>\n",
       "      <th>text</th>\n",
       "    </tr>\n",
       "  </thead>\n",
       "  <tbody>\n",
       "    <tr>\n",
       "      <th>0</th>\n",
       "      <td>2401</td>\n",
       "      <td>Borderlands</td>\n",
       "      <td>Positive</td>\n",
       "      <td>im getting on borderlands and i will murder yo...</td>\n",
       "    </tr>\n",
       "    <tr>\n",
       "      <th>1</th>\n",
       "      <td>2401</td>\n",
       "      <td>Borderlands</td>\n",
       "      <td>Positive</td>\n",
       "      <td>I am coming to the borders and I will kill you...</td>\n",
       "    </tr>\n",
       "    <tr>\n",
       "      <th>2</th>\n",
       "      <td>2401</td>\n",
       "      <td>Borderlands</td>\n",
       "      <td>Positive</td>\n",
       "      <td>im getting on borderlands and i will kill you ...</td>\n",
       "    </tr>\n",
       "    <tr>\n",
       "      <th>3</th>\n",
       "      <td>2401</td>\n",
       "      <td>Borderlands</td>\n",
       "      <td>Positive</td>\n",
       "      <td>im coming on borderlands and i will murder you...</td>\n",
       "    </tr>\n",
       "    <tr>\n",
       "      <th>4</th>\n",
       "      <td>2401</td>\n",
       "      <td>Borderlands</td>\n",
       "      <td>Positive</td>\n",
       "      <td>im getting on borderlands 2 and i will murder ...</td>\n",
       "    </tr>\n",
       "  </tbody>\n",
       "</table>\n",
       "</div>"
      ],
      "text/plain": [
       "     id       entity sentiment  \\\n",
       "0  2401  Borderlands  Positive   \n",
       "1  2401  Borderlands  Positive   \n",
       "2  2401  Borderlands  Positive   \n",
       "3  2401  Borderlands  Positive   \n",
       "4  2401  Borderlands  Positive   \n",
       "\n",
       "                                                text  \n",
       "0  im getting on borderlands and i will murder yo...  \n",
       "1  I am coming to the borders and I will kill you...  \n",
       "2  im getting on borderlands and i will kill you ...  \n",
       "3  im coming on borderlands and i will murder you...  \n",
       "4  im getting on borderlands 2 and i will murder ...  "
      ]
     },
     "execution_count": 3,
     "metadata": {},
     "output_type": "execute_result"
    }
   ],
   "source": [
    "# Lectura dataset 1\n",
    "header = ['id', 'entity', 'sentiment', 'text']\n",
    "dataset1_no_procesado = pd.read_csv('./assets/dataset1-no-procesado.csv', delimiter=',', encoding='utf-8', names=header)\n",
    "# Descrición dataset\n",
    "print(dataset1_no_procesado.describe())\n",
    "# Visualización primeros registros\n",
    "dataset1_no_procesado.head()"
   ]
  },
  {
   "cell_type": "code",
   "execution_count": 4,
   "metadata": {},
   "outputs": [
    {
     "name": "stdout",
     "output_type": "stream",
     "text": [
      "                 id\n",
      "count  57275.000000\n",
      "mean    6537.770423\n",
      "std     3761.777501\n",
      "min        1.000000\n",
      "25%     3239.000000\n",
      "50%     6758.000000\n",
      "75%     9695.000000\n",
      "max    13198.000000\n"
     ]
    }
   ],
   "source": [
    "# Limpieza dataset 1\n",
    "dataset1_procesado = dataset1_no_procesado.dropna()\n",
    "dataset1_procesado = dataset1_procesado.drop_duplicates(subset='text')\n",
    "dataset1_procesado = dataset1_procesado[dataset1_procesado['text'] != '']\n",
    "dataset1_procesado = dataset1_procesado[(dataset1_procesado['sentiment'] == 'Positive') | \n",
    "                                        (dataset1_procesado['sentiment'] == 'Negative') | \n",
    "                                        (dataset1_procesado['sentiment'] == 'Neutral')]\n",
    "# Descrición dataset\n",
    "print(dataset1_procesado.describe())"
   ]
  },
  {
   "cell_type": "code",
   "execution_count": 5,
   "metadata": {},
   "outputs": [
    {
     "data": {
      "text/html": [
       "<div>\n",
       "<style scoped>\n",
       "    .dataframe tbody tr th:only-of-type {\n",
       "        vertical-align: middle;\n",
       "    }\n",
       "\n",
       "    .dataframe tbody tr th {\n",
       "        vertical-align: top;\n",
       "    }\n",
       "\n",
       "    .dataframe thead th {\n",
       "        text-align: right;\n",
       "    }\n",
       "</style>\n",
       "<table border=\"1\" class=\"dataframe\">\n",
       "  <thead>\n",
       "    <tr style=\"text-align: right;\">\n",
       "      <th></th>\n",
       "      <th>text</th>\n",
       "      <th>sentiment</th>\n",
       "    </tr>\n",
       "  </thead>\n",
       "  <tbody>\n",
       "    <tr>\n",
       "      <th>0</th>\n",
       "      <td>im getting on borderlands and i will murder yo...</td>\n",
       "      <td>Positive</td>\n",
       "    </tr>\n",
       "    <tr>\n",
       "      <th>1</th>\n",
       "      <td>I am coming to the borders and I will kill you...</td>\n",
       "      <td>Positive</td>\n",
       "    </tr>\n",
       "    <tr>\n",
       "      <th>2</th>\n",
       "      <td>im getting on borderlands and i will kill you ...</td>\n",
       "      <td>Positive</td>\n",
       "    </tr>\n",
       "    <tr>\n",
       "      <th>3</th>\n",
       "      <td>im coming on borderlands and i will murder you...</td>\n",
       "      <td>Positive</td>\n",
       "    </tr>\n",
       "    <tr>\n",
       "      <th>4</th>\n",
       "      <td>im getting on borderlands 2 and i will murder ...</td>\n",
       "      <td>Positive</td>\n",
       "    </tr>\n",
       "  </tbody>\n",
       "</table>\n",
       "</div>"
      ],
      "text/plain": [
       "                                                text sentiment\n",
       "0  im getting on borderlands and i will murder yo...  Positive\n",
       "1  I am coming to the borders and I will kill you...  Positive\n",
       "2  im getting on borderlands and i will kill you ...  Positive\n",
       "3  im coming on borderlands and i will murder you...  Positive\n",
       "4  im getting on borderlands 2 and i will murder ...  Positive"
      ]
     },
     "execution_count": 5,
     "metadata": {},
     "output_type": "execute_result"
    }
   ],
   "source": [
    "# Selección de columnas\n",
    "dataset1_procesado = dataset1_procesado[['text', 'sentiment']]\n",
    "dataset1_procesado.head()"
   ]
  },
  {
   "cell_type": "code",
   "execution_count": 6,
   "metadata": {},
   "outputs": [
    {
     "name": "stdout",
     "output_type": "stream",
     "text": [
      "sentiment\n",
      "Negative    5000\n",
      "Neutral     5000\n",
      "Positive    5000\n",
      "Name: count, dtype: int64\n",
      "0    Ohh please make wattson and crypto be friends ...\n",
      "1    @NBA2K fix your servers so bad, trash af and c...\n",
      "2    and I entered a date following the standard YY...\n",
      "3                  I am being twisted like a hot rock.\n",
      "4    Just stumbled across Microsoft Rewards - it se...\n",
      "Name: text, dtype: object\n"
     ]
    },
    {
     "name": "stderr",
     "output_type": "stream",
     "text": [
      "/var/folders/kr/066v09l56c9_4l91brw4fwdc0000gn/T/ipykernel_3191/3795909681.py:2: DeprecationWarning: DataFrameGroupBy.apply operated on the grouping columns. This behavior is deprecated, and in a future version of pandas the grouping columns will be excluded from the operation. Either pass `include_groups=False` to exclude the groupings or explicitly select the grouping columns after groupby to silence this warning.\n",
      "  dataset1_procesado = dataset1_procesado.groupby('sentiment').apply(lambda x: x.sample(n=5000)).reset_index(drop=True)\n"
     ]
    }
   ],
   "source": [
    "# Selección aleatoria de 5000 para cada clase\n",
    "dataset1_procesado = dataset1_procesado.groupby('sentiment').apply(lambda x: x.sample(n=5000)).reset_index(drop=True)\n",
    "# Descripción dataset\n",
    "print(dataset1_procesado['sentiment'].value_counts())\n",
    "print(dataset1_procesado['text'].head())"
   ]
  },
  {
   "cell_type": "markdown",
   "metadata": {},
   "source": [
    "##### Dataset 2\n"
   ]
  },
  {
   "cell_type": "code",
   "execution_count": 7,
   "metadata": {},
   "outputs": [
    {
     "name": "stdout",
     "output_type": "stream",
     "text": [
      "       Population -2020  Land Area (Km²)  Density (P/Km²)\n",
      "count      2.748100e+04     2.748100e+04     27481.000000\n",
      "mean       4.018497e+07     6.621730e+05       357.686583\n",
      "std        1.504946e+08     1.807425e+06      2013.750702\n",
      "min        8.010000e+02     0.000000e+00         2.000000\n",
      "25%        1.968001e+06     2.281000e+04        35.000000\n",
      "50%        8.655535e+06     1.118900e+05        89.000000\n",
      "75%        2.843594e+07     5.279700e+05       214.000000\n",
      "max        1.439324e+09     1.637687e+07     26337.000000\n"
     ]
    },
    {
     "data": {
      "text/html": [
       "<div>\n",
       "<style scoped>\n",
       "    .dataframe tbody tr th:only-of-type {\n",
       "        vertical-align: middle;\n",
       "    }\n",
       "\n",
       "    .dataframe tbody tr th {\n",
       "        vertical-align: top;\n",
       "    }\n",
       "\n",
       "    .dataframe thead th {\n",
       "        text-align: right;\n",
       "    }\n",
       "</style>\n",
       "<table border=\"1\" class=\"dataframe\">\n",
       "  <thead>\n",
       "    <tr style=\"text-align: right;\">\n",
       "      <th></th>\n",
       "      <th>textID</th>\n",
       "      <th>text</th>\n",
       "      <th>selected_text</th>\n",
       "      <th>sentiment</th>\n",
       "      <th>Time of Tweet</th>\n",
       "      <th>Age of User</th>\n",
       "      <th>Country</th>\n",
       "      <th>Population -2020</th>\n",
       "      <th>Land Area (Km²)</th>\n",
       "      <th>Density (P/Km²)</th>\n",
       "    </tr>\n",
       "  </thead>\n",
       "  <tbody>\n",
       "    <tr>\n",
       "      <th>0</th>\n",
       "      <td>cb774db0d1</td>\n",
       "      <td>I`d have responded, if I were going</td>\n",
       "      <td>I`d have responded, if I were going</td>\n",
       "      <td>neutral</td>\n",
       "      <td>morning</td>\n",
       "      <td>0-20</td>\n",
       "      <td>Afghanistan</td>\n",
       "      <td>38928346</td>\n",
       "      <td>652860.0</td>\n",
       "      <td>60</td>\n",
       "    </tr>\n",
       "    <tr>\n",
       "      <th>1</th>\n",
       "      <td>549e992a42</td>\n",
       "      <td>Sooo SAD I will miss you here in San Diego!!!</td>\n",
       "      <td>Sooo SAD</td>\n",
       "      <td>negative</td>\n",
       "      <td>noon</td>\n",
       "      <td>21-30</td>\n",
       "      <td>Albania</td>\n",
       "      <td>2877797</td>\n",
       "      <td>27400.0</td>\n",
       "      <td>105</td>\n",
       "    </tr>\n",
       "    <tr>\n",
       "      <th>2</th>\n",
       "      <td>088c60f138</td>\n",
       "      <td>my boss is bullying me...</td>\n",
       "      <td>bullying me</td>\n",
       "      <td>negative</td>\n",
       "      <td>night</td>\n",
       "      <td>31-45</td>\n",
       "      <td>Algeria</td>\n",
       "      <td>43851044</td>\n",
       "      <td>2381740.0</td>\n",
       "      <td>18</td>\n",
       "    </tr>\n",
       "    <tr>\n",
       "      <th>3</th>\n",
       "      <td>9642c003ef</td>\n",
       "      <td>what interview! leave me alone</td>\n",
       "      <td>leave me alone</td>\n",
       "      <td>negative</td>\n",
       "      <td>morning</td>\n",
       "      <td>46-60</td>\n",
       "      <td>Andorra</td>\n",
       "      <td>77265</td>\n",
       "      <td>470.0</td>\n",
       "      <td>164</td>\n",
       "    </tr>\n",
       "    <tr>\n",
       "      <th>4</th>\n",
       "      <td>358bd9e861</td>\n",
       "      <td>Sons of ****, why couldn`t they put them on t...</td>\n",
       "      <td>Sons of ****,</td>\n",
       "      <td>negative</td>\n",
       "      <td>noon</td>\n",
       "      <td>60-70</td>\n",
       "      <td>Angola</td>\n",
       "      <td>32866272</td>\n",
       "      <td>1246700.0</td>\n",
       "      <td>26</td>\n",
       "    </tr>\n",
       "  </tbody>\n",
       "</table>\n",
       "</div>"
      ],
      "text/plain": [
       "       textID                                               text  \\\n",
       "0  cb774db0d1                I`d have responded, if I were going   \n",
       "1  549e992a42      Sooo SAD I will miss you here in San Diego!!!   \n",
       "2  088c60f138                          my boss is bullying me...   \n",
       "3  9642c003ef                     what interview! leave me alone   \n",
       "4  358bd9e861   Sons of ****, why couldn`t they put them on t...   \n",
       "\n",
       "                         selected_text sentiment Time of Tweet Age of User  \\\n",
       "0  I`d have responded, if I were going   neutral       morning        0-20   \n",
       "1                             Sooo SAD  negative          noon       21-30   \n",
       "2                          bullying me  negative         night       31-45   \n",
       "3                       leave me alone  negative       morning       46-60   \n",
       "4                        Sons of ****,  negative          noon       60-70   \n",
       "\n",
       "       Country  Population -2020  Land Area (Km²)  Density (P/Km²)  \n",
       "0  Afghanistan          38928346         652860.0               60  \n",
       "1      Albania           2877797          27400.0              105  \n",
       "2      Algeria          43851044        2381740.0               18  \n",
       "3      Andorra             77265            470.0              164  \n",
       "4       Angola          32866272        1246700.0               26  "
      ]
     },
     "execution_count": 7,
     "metadata": {},
     "output_type": "execute_result"
    }
   ],
   "source": [
    "# Lectura dataset 2\n",
    "dataset2_no_procesado = pd.read_csv('./assets/dataset2-no-procesado.csv', delimiter=',', encoding='unicode_escape')\n",
    "# Descrición dataset\n",
    "print(dataset2_no_procesado.describe())\n",
    "# Visualización primeros registros\n",
    "dataset2_no_procesado.head()"
   ]
  },
  {
   "cell_type": "code",
   "execution_count": 8,
   "metadata": {},
   "outputs": [
    {
     "name": "stdout",
     "output_type": "stream",
     "text": [
      "                                                     text sentiment\n",
      "count                                               15000     15000\n",
      "unique                                              15000         3\n",
      "top     Ohh please make wattson and crypto be friends ...  Negative\n",
      "freq                                                    1      5000\n"
     ]
    }
   ],
   "source": [
    "# Limpieza dateset 2\n",
    "dataset2_procesado = dataset2_no_procesado.dropna()\n",
    "dataset2_procesado = dataset2_procesado[dataset2_procesado['selected_text'] != '']\n",
    "dataset2_procesado = dataset2_procesado.drop_duplicates(subset='selected_text')\n",
    "dataset2_procesado = dataset2_procesado[(dataset2_procesado['sentiment'] == 'positive') | \n",
    "                                        (dataset2_procesado['sentiment'] == 'negative') | \n",
    "                                        (dataset2_procesado['sentiment'] == 'neutral')]\n",
    "# Descrición dataset\n",
    "print(dataset1_procesado.describe())"
   ]
  },
  {
   "cell_type": "code",
   "execution_count": 9,
   "metadata": {},
   "outputs": [
    {
     "data": {
      "text/html": [
       "<div>\n",
       "<style scoped>\n",
       "    .dataframe tbody tr th:only-of-type {\n",
       "        vertical-align: middle;\n",
       "    }\n",
       "\n",
       "    .dataframe tbody tr th {\n",
       "        vertical-align: top;\n",
       "    }\n",
       "\n",
       "    .dataframe thead th {\n",
       "        text-align: right;\n",
       "    }\n",
       "</style>\n",
       "<table border=\"1\" class=\"dataframe\">\n",
       "  <thead>\n",
       "    <tr style=\"text-align: right;\">\n",
       "      <th></th>\n",
       "      <th>text</th>\n",
       "      <th>sentiment</th>\n",
       "    </tr>\n",
       "  </thead>\n",
       "  <tbody>\n",
       "    <tr>\n",
       "      <th>0</th>\n",
       "      <td>I`d have responded, if I were going</td>\n",
       "      <td>neutral</td>\n",
       "    </tr>\n",
       "    <tr>\n",
       "      <th>1</th>\n",
       "      <td>Sooo SAD</td>\n",
       "      <td>negative</td>\n",
       "    </tr>\n",
       "    <tr>\n",
       "      <th>2</th>\n",
       "      <td>bullying me</td>\n",
       "      <td>negative</td>\n",
       "    </tr>\n",
       "    <tr>\n",
       "      <th>3</th>\n",
       "      <td>leave me alone</td>\n",
       "      <td>negative</td>\n",
       "    </tr>\n",
       "    <tr>\n",
       "      <th>4</th>\n",
       "      <td>Sons of ****,</td>\n",
       "      <td>negative</td>\n",
       "    </tr>\n",
       "  </tbody>\n",
       "</table>\n",
       "</div>"
      ],
      "text/plain": [
       "                                  text sentiment\n",
       "0  I`d have responded, if I were going   neutral\n",
       "1                             Sooo SAD  negative\n",
       "2                          bullying me  negative\n",
       "3                       leave me alone  negative\n",
       "4                        Sons of ****,  negative"
      ]
     },
     "execution_count": 9,
     "metadata": {},
     "output_type": "execute_result"
    }
   ],
   "source": [
    "# Selección de columnas\n",
    "dataset2_procesado = dataset2_procesado[['selected_text', 'sentiment']]\n",
    "# Renombrar columnas\n",
    "dataset2_procesado.columns = ['text', 'sentiment']\n",
    "dataset2_procesado.head()"
   ]
  },
  {
   "cell_type": "code",
   "execution_count": 10,
   "metadata": {},
   "outputs": [
    {
     "name": "stdout",
     "output_type": "stream",
     "text": [
      "sentiment\n",
      "negative    5000\n",
      "neutral     5000\n",
      "positive    5000\n",
      "Name: count, dtype: int64\n",
      "0               Sleep-fail.\n",
      "1     realise what tourture\n",
      "2                not proud.\n",
      "3    I always feel so sorry\n",
      "4                FRUSTRADED\n",
      "Name: text, dtype: object\n"
     ]
    },
    {
     "name": "stderr",
     "output_type": "stream",
     "text": [
      "/var/folders/kr/066v09l56c9_4l91brw4fwdc0000gn/T/ipykernel_3191/4195809176.py:2: DeprecationWarning: DataFrameGroupBy.apply operated on the grouping columns. This behavior is deprecated, and in a future version of pandas the grouping columns will be excluded from the operation. Either pass `include_groups=False` to exclude the groupings or explicitly select the grouping columns after groupby to silence this warning.\n",
      "  dataset2_procesado = dataset2_procesado.groupby('sentiment').apply(lambda x: x.sample(n=5000)).reset_index(drop=True)\n"
     ]
    }
   ],
   "source": [
    "# Selección aleatoria de 5000 para cada clase\n",
    "dataset2_procesado = dataset2_procesado.groupby('sentiment').apply(lambda x: x.sample(n=5000)).reset_index(drop=True)\n",
    "# Descripción dataset\n",
    "print(dataset2_procesado['sentiment'].value_counts())\n",
    "print(dataset2_procesado['text'].head())"
   ]
  },
  {
   "cell_type": "markdown",
   "metadata": {},
   "source": [
    "# Juntar los dos datasets en un solo archivo CSV"
   ]
  },
  {
   "cell_type": "code",
   "execution_count": 11,
   "metadata": {},
   "outputs": [
    {
     "name": "stdout",
     "output_type": "stream",
     "text": [
      "sentiment\n",
      "negative    10000\n",
      "neutral     10000\n",
      "positive    10000\n",
      "Name: count, dtype: int64\n"
     ]
    }
   ],
   "source": [
    "# Unión de datasets\n",
    "dataset = pd.concat([dataset1_procesado, dataset2_procesado])\n",
    "# Dejar clases en minúsculas\n",
    "dataset['sentiment'] = dataset['sentiment'].str.lower()\n",
    "# Descripción dataset\n",
    "print(dataset['sentiment'].value_counts())"
   ]
  },
  {
   "cell_type": "code",
   "execution_count": 12,
   "metadata": {},
   "outputs": [],
   "source": [
    "# Exportación dataset 30000 registros\n",
    "# train  = 80% = 24000 registros\n",
    "# test = 20% = 6000 registros ->\n",
    "dataset_train, dataset_other = train_test_split(dataset, test_size=0.2, random_state=42, stratify=dataset['sentiment'])\n",
    "dataset_test, dataset_validation = train_test_split(dataset_other, test_size=0.5, random_state=42, stratify=dataset_other['sentiment'])\n",
    "dataset_train.to_csv('./dist/dataset-spanish-tweets-train.csv', index=False, encoding='utf-8')\n",
    "dataset_test.to_csv('./dist/dataset-spanish-tweets-test.csv', index=False, encoding='utf-8')\n",
    "dataset_validation.to_csv('./dist/dataset-spanish-tweets-validation.csv', index=False, encoding='utf-8')"
   ]
  },
  {
   "cell_type": "code",
   "execution_count": 16,
   "metadata": {},
   "outputs": [
    {
     "name": "stdout",
     "output_type": "stream",
     "text": [
      "Total registros: 30000\n",
      "Train registros: 24000\n",
      "Test registros: 3000\n",
      "Validation registros: 3000\n"
     ]
    }
   ],
   "source": [
    "print('Total registros:', dataset.shape[0])\n",
    "print('Train registros:', dataset_train.shape[0])\n",
    "print('Test registros:', dataset_test.shape[0])\n",
    "print('Validation registros:', dataset_validation.shape[0])"
   ]
  }
 ],
 "metadata": {
  "kernelspec": {
   "display_name": "env-talentotech-project",
   "language": "python",
   "name": "python3"
  },
  "language_info": {
   "codemirror_mode": {
    "name": "ipython",
    "version": 3
   },
   "file_extension": ".py",
   "mimetype": "text/x-python",
   "name": "python",
   "nbconvert_exporter": "python",
   "pygments_lexer": "ipython3",
   "version": "3.10.14"
  }
 },
 "nbformat": 4,
 "nbformat_minor": 2
}
