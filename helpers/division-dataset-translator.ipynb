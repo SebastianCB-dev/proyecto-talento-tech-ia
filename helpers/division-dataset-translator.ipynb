{
 "cells": [
  {
   "cell_type": "code",
   "execution_count": 1,
   "metadata": {},
   "outputs": [
    {
     "name": "stdout",
     "output_type": "stream",
     "text": [
      "Requirement already satisfied: pandas==2.2.2 in /Users/sebastiancb/anaconda3/envs/env-talentotech-project/lib/python3.10/site-packages (from -r ../requirements.txt (line 1)) (2.2.2)\n",
      "Requirement already satisfied: scikit-learn==1.5.1 in /Users/sebastiancb/anaconda3/envs/env-talentotech-project/lib/python3.10/site-packages (from -r ../requirements.txt (line 2)) (1.5.1)\n",
      "Requirement already satisfied: nltk==3.9 in /Users/sebastiancb/anaconda3/envs/env-talentotech-project/lib/python3.10/site-packages (from -r ../requirements.txt (line 3)) (3.9)\n",
      "Requirement already satisfied: spacy==3.7.5 in /Users/sebastiancb/anaconda3/envs/env-talentotech-project/lib/python3.10/site-packages (from -r ../requirements.txt (line 4)) (3.7.5)\n",
      "Requirement already satisfied: numpy==1.26.4 in /Users/sebastiancb/anaconda3/envs/env-talentotech-project/lib/python3.10/site-packages (from -r ../requirements.txt (line 5)) (1.26.4)\n",
      "Requirement already satisfied: gensim==4.3.3 in /Users/sebastiancb/anaconda3/envs/env-talentotech-project/lib/python3.10/site-packages (from -r ../requirements.txt (line 6)) (4.3.3)\n",
      "Requirement already satisfied: python-dateutil>=2.8.2 in /Users/sebastiancb/anaconda3/envs/env-talentotech-project/lib/python3.10/site-packages (from pandas==2.2.2->-r ../requirements.txt (line 1)) (2.9.0)\n",
      "Requirement already satisfied: pytz>=2020.1 in /Users/sebastiancb/anaconda3/envs/env-talentotech-project/lib/python3.10/site-packages (from pandas==2.2.2->-r ../requirements.txt (line 1)) (2024.1)\n",
      "Requirement already satisfied: tzdata>=2022.7 in /Users/sebastiancb/anaconda3/envs/env-talentotech-project/lib/python3.10/site-packages (from pandas==2.2.2->-r ../requirements.txt (line 1)) (2024.1)\n",
      "Requirement already satisfied: scipy>=1.6.0 in /Users/sebastiancb/anaconda3/envs/env-talentotech-project/lib/python3.10/site-packages (from scikit-learn==1.5.1->-r ../requirements.txt (line 2)) (1.13.1)\n",
      "Requirement already satisfied: joblib>=1.2.0 in /Users/sebastiancb/anaconda3/envs/env-talentotech-project/lib/python3.10/site-packages (from scikit-learn==1.5.1->-r ../requirements.txt (line 2)) (1.4.2)\n",
      "Requirement already satisfied: threadpoolctl>=3.1.0 in /Users/sebastiancb/anaconda3/envs/env-talentotech-project/lib/python3.10/site-packages (from scikit-learn==1.5.1->-r ../requirements.txt (line 2)) (3.5.0)\n",
      "Requirement already satisfied: click in /Users/sebastiancb/anaconda3/envs/env-talentotech-project/lib/python3.10/site-packages (from nltk==3.9->-r ../requirements.txt (line 3)) (8.1.7)\n",
      "Requirement already satisfied: regex>=2021.8.3 in /Users/sebastiancb/anaconda3/envs/env-talentotech-project/lib/python3.10/site-packages (from nltk==3.9->-r ../requirements.txt (line 3)) (2024.7.24)\n",
      "Requirement already satisfied: tqdm in /Users/sebastiancb/anaconda3/envs/env-talentotech-project/lib/python3.10/site-packages (from nltk==3.9->-r ../requirements.txt (line 3)) (4.66.5)\n",
      "Requirement already satisfied: spacy-legacy<3.1.0,>=3.0.11 in /Users/sebastiancb/anaconda3/envs/env-talentotech-project/lib/python3.10/site-packages (from spacy==3.7.5->-r ../requirements.txt (line 4)) (3.0.12)\n",
      "Requirement already satisfied: spacy-loggers<2.0.0,>=1.0.0 in /Users/sebastiancb/anaconda3/envs/env-talentotech-project/lib/python3.10/site-packages (from spacy==3.7.5->-r ../requirements.txt (line 4)) (1.0.5)\n",
      "Requirement already satisfied: murmurhash<1.1.0,>=0.28.0 in /Users/sebastiancb/anaconda3/envs/env-talentotech-project/lib/python3.10/site-packages (from spacy==3.7.5->-r ../requirements.txt (line 4)) (1.0.10)\n",
      "Requirement already satisfied: cymem<2.1.0,>=2.0.2 in /Users/sebastiancb/anaconda3/envs/env-talentotech-project/lib/python3.10/site-packages (from spacy==3.7.5->-r ../requirements.txt (line 4)) (2.0.8)\n",
      "Requirement already satisfied: preshed<3.1.0,>=3.0.2 in /Users/sebastiancb/anaconda3/envs/env-talentotech-project/lib/python3.10/site-packages (from spacy==3.7.5->-r ../requirements.txt (line 4)) (3.0.9)\n",
      "Requirement already satisfied: thinc<8.3.0,>=8.2.2 in /Users/sebastiancb/anaconda3/envs/env-talentotech-project/lib/python3.10/site-packages (from spacy==3.7.5->-r ../requirements.txt (line 4)) (8.2.4)\n",
      "Requirement already satisfied: wasabi<1.2.0,>=0.9.1 in /Users/sebastiancb/anaconda3/envs/env-talentotech-project/lib/python3.10/site-packages (from spacy==3.7.5->-r ../requirements.txt (line 4)) (1.1.3)\n",
      "Requirement already satisfied: srsly<3.0.0,>=2.4.3 in /Users/sebastiancb/anaconda3/envs/env-talentotech-project/lib/python3.10/site-packages (from spacy==3.7.5->-r ../requirements.txt (line 4)) (2.4.8)\n",
      "Requirement already satisfied: catalogue<2.1.0,>=2.0.6 in /Users/sebastiancb/anaconda3/envs/env-talentotech-project/lib/python3.10/site-packages (from spacy==3.7.5->-r ../requirements.txt (line 4)) (2.0.10)\n",
      "Requirement already satisfied: weasel<0.5.0,>=0.1.0 in /Users/sebastiancb/anaconda3/envs/env-talentotech-project/lib/python3.10/site-packages (from spacy==3.7.5->-r ../requirements.txt (line 4)) (0.4.1)\n",
      "Requirement already satisfied: typer<1.0.0,>=0.3.0 in /Users/sebastiancb/anaconda3/envs/env-talentotech-project/lib/python3.10/site-packages (from spacy==3.7.5->-r ../requirements.txt (line 4)) (0.12.3)\n",
      "Requirement already satisfied: requests<3.0.0,>=2.13.0 in /Users/sebastiancb/anaconda3/envs/env-talentotech-project/lib/python3.10/site-packages (from spacy==3.7.5->-r ../requirements.txt (line 4)) (2.32.3)\n",
      "Requirement already satisfied: pydantic!=1.8,!=1.8.1,<3.0.0,>=1.7.4 in /Users/sebastiancb/anaconda3/envs/env-talentotech-project/lib/python3.10/site-packages (from spacy==3.7.5->-r ../requirements.txt (line 4)) (2.8.2)\n",
      "Requirement already satisfied: jinja2 in /Users/sebastiancb/anaconda3/envs/env-talentotech-project/lib/python3.10/site-packages (from spacy==3.7.5->-r ../requirements.txt (line 4)) (3.1.4)\n",
      "Requirement already satisfied: setuptools in /Users/sebastiancb/anaconda3/envs/env-talentotech-project/lib/python3.10/site-packages (from spacy==3.7.5->-r ../requirements.txt (line 4)) (72.1.0)\n",
      "Requirement already satisfied: packaging>=20.0 in /Users/sebastiancb/anaconda3/envs/env-talentotech-project/lib/python3.10/site-packages (from spacy==3.7.5->-r ../requirements.txt (line 4)) (24.1)\n",
      "Requirement already satisfied: langcodes<4.0.0,>=3.2.0 in /Users/sebastiancb/anaconda3/envs/env-talentotech-project/lib/python3.10/site-packages (from spacy==3.7.5->-r ../requirements.txt (line 4)) (3.4.0)\n",
      "Requirement already satisfied: smart-open>=1.8.1 in /Users/sebastiancb/anaconda3/envs/env-talentotech-project/lib/python3.10/site-packages (from gensim==4.3.3->-r ../requirements.txt (line 6)) (7.0.4)\n",
      "Requirement already satisfied: language-data>=1.2 in /Users/sebastiancb/anaconda3/envs/env-talentotech-project/lib/python3.10/site-packages (from langcodes<4.0.0,>=3.2.0->spacy==3.7.5->-r ../requirements.txt (line 4)) (1.2.0)\n",
      "Requirement already satisfied: annotated-types>=0.4.0 in /Users/sebastiancb/anaconda3/envs/env-talentotech-project/lib/python3.10/site-packages (from pydantic!=1.8,!=1.8.1,<3.0.0,>=1.7.4->spacy==3.7.5->-r ../requirements.txt (line 4)) (0.7.0)\n",
      "Requirement already satisfied: pydantic-core==2.20.1 in /Users/sebastiancb/anaconda3/envs/env-talentotech-project/lib/python3.10/site-packages (from pydantic!=1.8,!=1.8.1,<3.0.0,>=1.7.4->spacy==3.7.5->-r ../requirements.txt (line 4)) (2.20.1)\n",
      "Requirement already satisfied: typing-extensions>=4.6.1 in /Users/sebastiancb/anaconda3/envs/env-talentotech-project/lib/python3.10/site-packages (from pydantic!=1.8,!=1.8.1,<3.0.0,>=1.7.4->spacy==3.7.5->-r ../requirements.txt (line 4)) (4.12.2)\n",
      "Requirement already satisfied: six>=1.5 in /Users/sebastiancb/anaconda3/envs/env-talentotech-project/lib/python3.10/site-packages (from python-dateutil>=2.8.2->pandas==2.2.2->-r ../requirements.txt (line 1)) (1.16.0)\n",
      "Requirement already satisfied: charset-normalizer<4,>=2 in /Users/sebastiancb/anaconda3/envs/env-talentotech-project/lib/python3.10/site-packages (from requests<3.0.0,>=2.13.0->spacy==3.7.5->-r ../requirements.txt (line 4)) (3.3.2)\n",
      "Requirement already satisfied: idna<4,>=2.5 in /Users/sebastiancb/anaconda3/envs/env-talentotech-project/lib/python3.10/site-packages (from requests<3.0.0,>=2.13.0->spacy==3.7.5->-r ../requirements.txt (line 4)) (3.7)\n",
      "Requirement already satisfied: urllib3<3,>=1.21.1 in /Users/sebastiancb/anaconda3/envs/env-talentotech-project/lib/python3.10/site-packages (from requests<3.0.0,>=2.13.0->spacy==3.7.5->-r ../requirements.txt (line 4)) (2.2.2)\n",
      "Requirement already satisfied: certifi>=2017.4.17 in /Users/sebastiancb/anaconda3/envs/env-talentotech-project/lib/python3.10/site-packages (from requests<3.0.0,>=2.13.0->spacy==3.7.5->-r ../requirements.txt (line 4)) (2024.7.4)\n",
      "Requirement already satisfied: wrapt in /Users/sebastiancb/anaconda3/envs/env-talentotech-project/lib/python3.10/site-packages (from smart-open>=1.8.1->gensim==4.3.3->-r ../requirements.txt (line 6)) (1.16.0)\n",
      "Requirement already satisfied: blis<0.8.0,>=0.7.8 in /Users/sebastiancb/anaconda3/envs/env-talentotech-project/lib/python3.10/site-packages (from thinc<8.3.0,>=8.2.2->spacy==3.7.5->-r ../requirements.txt (line 4)) (0.7.11)\n",
      "Requirement already satisfied: confection<1.0.0,>=0.0.1 in /Users/sebastiancb/anaconda3/envs/env-talentotech-project/lib/python3.10/site-packages (from thinc<8.3.0,>=8.2.2->spacy==3.7.5->-r ../requirements.txt (line 4)) (0.1.5)\n",
      "Requirement already satisfied: shellingham>=1.3.0 in /Users/sebastiancb/anaconda3/envs/env-talentotech-project/lib/python3.10/site-packages (from typer<1.0.0,>=0.3.0->spacy==3.7.5->-r ../requirements.txt (line 4)) (1.5.4)\n",
      "Requirement already satisfied: rich>=10.11.0 in /Users/sebastiancb/anaconda3/envs/env-talentotech-project/lib/python3.10/site-packages (from typer<1.0.0,>=0.3.0->spacy==3.7.5->-r ../requirements.txt (line 4)) (13.7.1)\n",
      "Requirement already satisfied: cloudpathlib<1.0.0,>=0.7.0 in /Users/sebastiancb/anaconda3/envs/env-talentotech-project/lib/python3.10/site-packages (from weasel<0.5.0,>=0.1.0->spacy==3.7.5->-r ../requirements.txt (line 4)) (0.18.1)\n",
      "Requirement already satisfied: MarkupSafe>=2.0 in /Users/sebastiancb/anaconda3/envs/env-talentotech-project/lib/python3.10/site-packages (from jinja2->spacy==3.7.5->-r ../requirements.txt (line 4)) (2.1.5)\n",
      "Requirement already satisfied: marisa-trie>=0.7.7 in /Users/sebastiancb/anaconda3/envs/env-talentotech-project/lib/python3.10/site-packages (from language-data>=1.2->langcodes<4.0.0,>=3.2.0->spacy==3.7.5->-r ../requirements.txt (line 4)) (1.2.0)\n",
      "Requirement already satisfied: markdown-it-py>=2.2.0 in /Users/sebastiancb/anaconda3/envs/env-talentotech-project/lib/python3.10/site-packages (from rich>=10.11.0->typer<1.0.0,>=0.3.0->spacy==3.7.5->-r ../requirements.txt (line 4)) (3.0.0)\n",
      "Requirement already satisfied: pygments<3.0.0,>=2.13.0 in /Users/sebastiancb/anaconda3/envs/env-talentotech-project/lib/python3.10/site-packages (from rich>=10.11.0->typer<1.0.0,>=0.3.0->spacy==3.7.5->-r ../requirements.txt (line 4)) (2.18.0)\n",
      "Requirement already satisfied: mdurl~=0.1 in /Users/sebastiancb/anaconda3/envs/env-talentotech-project/lib/python3.10/site-packages (from markdown-it-py>=2.2.0->rich>=10.11.0->typer<1.0.0,>=0.3.0->spacy==3.7.5->-r ../requirements.txt (line 4)) (0.1.2)\n",
      "Note: you may need to restart the kernel to use updated packages.\n"
     ]
    }
   ],
   "source": [
    "# Importación de librerías\n",
    "%pip install -r '../requirements.txt'"
   ]
  },
  {
   "cell_type": "code",
   "execution_count": 2,
   "metadata": {},
   "outputs": [],
   "source": [
    "# Importación de librerías\n",
    "import pandas as pd"
   ]
  },
  {
   "cell_type": "code",
   "execution_count": 3,
   "metadata": {},
   "outputs": [
    {
     "data": {
      "text/html": [
       "<div>\n",
       "<style scoped>\n",
       "    .dataframe tbody tr th:only-of-type {\n",
       "        vertical-align: middle;\n",
       "    }\n",
       "\n",
       "    .dataframe tbody tr th {\n",
       "        vertical-align: top;\n",
       "    }\n",
       "\n",
       "    .dataframe thead th {\n",
       "        text-align: right;\n",
       "    }\n",
       "</style>\n",
       "<table border=\"1\" class=\"dataframe\">\n",
       "  <thead>\n",
       "    <tr style=\"text-align: right;\">\n",
       "      <th></th>\n",
       "      <th>text</th>\n",
       "      <th>sentiment</th>\n",
       "    </tr>\n",
       "  </thead>\n",
       "  <tbody>\n",
       "    <tr>\n",
       "      <th>0</th>\n",
       "      <td>Oh yeah happy Fifa 21 everyone everyone</td>\n",
       "      <td>positive</td>\n",
       "    </tr>\n",
       "    <tr>\n",
       "      <th>1</th>\n",
       "      <td>verizon always trying sum bullshit when it com...</td>\n",
       "      <td>negative</td>\n",
       "    </tr>\n",
       "    <tr>\n",
       "      <th>2</th>\n",
       "      <td>Why the Hell is my timer ascending  when it sh...</td>\n",
       "      <td>negative</td>\n",
       "    </tr>\n",
       "    <tr>\n",
       "      <th>3</th>\n",
       "      <td>Johnson &amp; Johnson said Monday that it and the ...</td>\n",
       "      <td>positive</td>\n",
       "    </tr>\n",
       "    <tr>\n",
       "      <th>4</th>\n",
       "      <td>..poor thing.</td>\n",
       "      <td>negative</td>\n",
       "    </tr>\n",
       "  </tbody>\n",
       "</table>\n",
       "</div>"
      ],
      "text/plain": [
       "                                                text sentiment\n",
       "0            Oh yeah happy Fifa 21 everyone everyone  positive\n",
       "1  verizon always trying sum bullshit when it com...  negative\n",
       "2  Why the Hell is my timer ascending  when it sh...  negative\n",
       "3  Johnson & Johnson said Monday that it and the ...  positive\n",
       "4                                      ..poor thing.  negative"
      ]
     },
     "execution_count": 3,
     "metadata": {},
     "output_type": "execute_result"
    }
   ],
   "source": [
    "dataset_entrenamiento = pd.read_csv('../1-construccion-dataset-ingles/dist/dataset-english-tweets-train.csv', sep=',', encoding='utf-8')\n",
    "dataset_entrenamiento.head()"
   ]
  },
  {
   "cell_type": "code",
   "execution_count": 4,
   "metadata": {},
   "outputs": [
    {
     "data": {
      "text/plain": [
       "(41265, 2)"
      ]
     },
     "execution_count": 4,
     "metadata": {},
     "output_type": "execute_result"
    }
   ],
   "source": [
    "# Contiene x datos\n",
    "dataset_entrenamiento.shape"
   ]
  },
  {
   "cell_type": "code",
   "execution_count": 5,
   "metadata": {},
   "outputs": [],
   "source": [
    "# 40.000 datos dividirlo en 4 archivos\n",
    "dataset_entrenamiento_1 = dataset_entrenamiento[:10000]\n",
    "dataset_entrenamiento_2 = dataset_entrenamiento[10000:20000]\n",
    "dataset_entrenamiento_3 = dataset_entrenamiento[20000:30000]\n",
    "dataset_entrenamiento_4 = dataset_entrenamiento[30000:]"
   ]
  },
  {
   "cell_type": "code",
   "execution_count": 6,
   "metadata": {},
   "outputs": [],
   "source": [
    "# Exportarlos\n",
    "dataset_entrenamiento_1.to_csv('dist/dataset-english-tweets-train-1.csv', index=False)\n",
    "dataset_entrenamiento_2.to_csv('dist/dataset-english-tweets-train-2.csv', index=False)\n",
    "dataset_entrenamiento_3.to_csv('dist/dataset-english-tweets-train-3.csv', index=False)\n",
    "dataset_entrenamiento_4.to_csv('dist/dataset-english-tweets-train-4.csv', index=False)"
   ]
  }
 ],
 "metadata": {
  "kernelspec": {
   "display_name": "env-talentotech-project",
   "language": "python",
   "name": "python3"
  },
  "language_info": {
   "codemirror_mode": {
    "name": "ipython",
    "version": 3
   },
   "file_extension": ".py",
   "mimetype": "text/x-python",
   "name": "python",
   "nbconvert_exporter": "python",
   "pygments_lexer": "ipython3",
   "version": "3.10.14"
  }
 },
 "nbformat": 4,
 "nbformat_minor": 2
}
