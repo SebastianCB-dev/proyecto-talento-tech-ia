{
 "cells": [
  {
   "cell_type": "code",
   "execution_count": null,
   "metadata": {},
   "outputs": [],
   "source": [
    "# Importación de librerías\n",
    "%pip install -r '../requirements.txt'"
   ]
  },
  {
   "cell_type": "code",
   "execution_count": null,
   "metadata": {},
   "outputs": [],
   "source": [
    "# Importación de librerías\n",
    "import pandas as pd"
   ]
  },
  {
   "cell_type": "code",
   "execution_count": null,
   "metadata": {},
   "outputs": [],
   "source": [
    "dataset_entrenamiento = pd.read_csv('../1-construccion-dataset-ingles/dist/dataset-english-tweets-train.csv', sep=',', encoding='utf-8')\n",
    "dataset_entrenamiento.head()"
   ]
  },
  {
   "cell_type": "code",
   "execution_count": null,
   "metadata": {},
   "outputs": [],
   "source": [
    "# Contiene x datos\n",
    "dataset_entrenamiento.shape"
   ]
  },
  {
   "cell_type": "code",
   "execution_count": null,
   "metadata": {},
   "outputs": [],
   "source": [
    "# 40.000 datos dividirlo en 4 archivos\n",
    "dataset_entrenamiento_1 = dataset_entrenamiento[:10000]\n",
    "dataset_entrenamiento_2 = dataset_entrenamiento[10000:20000]\n",
    "dataset_entrenamiento_3 = dataset_entrenamiento[20000:30000]\n",
    "dataset_entrenamiento_4 = dataset_entrenamiento[30000:]"
   ]
  },
  {
   "cell_type": "code",
   "execution_count": null,
   "metadata": {},
   "outputs": [],
   "source": [
    "# Exportarlos\n",
    "dataset_entrenamiento_1.to_csv('dist/dataset-english-tweets-train-1.csv', index=False)\n",
    "dataset_entrenamiento_2.to_csv('dist/dataset-english-tweets-train-2.csv', index=False)\n",
    "dataset_entrenamiento_3.to_csv('dist/dataset-english-tweets-train-3.csv', index=False)\n",
    "dataset_entrenamiento_4.to_csv('dist/dataset-english-tweets-train-4.csv', index=False)"
   ]
  }
 ],
 "metadata": {
  "kernelspec": {
   "display_name": "env-talentotech-project",
   "language": "python",
   "name": "python3"
  },
  "language_info": {
   "codemirror_mode": {
    "name": "ipython",
    "version": 3
   },
   "file_extension": ".py",
   "mimetype": "text/x-python",
   "name": "python",
   "nbconvert_exporter": "python",
   "pygments_lexer": "ipython3",
   "version": "3.10.14"
  }
 },
 "nbformat": 4,
 "nbformat_minor": 2
}
